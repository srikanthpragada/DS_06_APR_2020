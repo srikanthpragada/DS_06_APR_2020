{
 "cells": [
  {
   "cell_type": "code",
   "execution_count": 1,
   "metadata": {},
   "outputs": [],
   "source": [
    "import pandas as pd\n",
    "import statistics as s\n",
    "import scipy.stats as ss\n",
    "import numpy as np"
   ]
  },
  {
   "cell_type": "markdown",
   "metadata": {},
   "source": [
    "### Session 6 - 11/04/2020"
   ]
  },
  {
   "cell_type": "code",
   "execution_count": 2,
   "metadata": {},
   "outputs": [],
   "source": [
    "df = pd.read_csv(\"Salary.csv\")"
   ]
  },
  {
   "cell_type": "markdown",
   "metadata": {},
   "source": [
    "#### Display outliers in salary"
   ]
  },
  {
   "cell_type": "code",
   "execution_count": 3,
   "metadata": {
    "collapsed": true,
    "jupyter": {
     "outputs_hidden": true
    }
   },
   "outputs": [
    {
     "name": "stdout",
     "output_type": "stream",
     "text": [
      "Number of outliers = 0, Outliers = []\n"
     ]
    }
   ],
   "source": [
    "q1 = df['salary'].quantile(.25)\n",
    "q3 = df['salary'].quantile(.75)\n",
    "iqr = q3 - q1\n",
    "\n",
    "outliers = []\n",
    "\n",
    "for n in df['salary']:\n",
    "    if n < (q1-(1.5*iqr)) or n > (q3+(1.5*iqr)):\n",
    "        outliers.append(n)\n",
    "\n",
    "print(f\"Number of outliers = {len(outliers)}, Outliers = {outliers}\")"
   ]
  },
  {
   "cell_type": "markdown",
   "metadata": {},
   "source": [
    "#### Display outliers in experience"
   ]
  },
  {
   "cell_type": "code",
   "execution_count": 4,
   "metadata": {
    "collapsed": true,
    "jupyter": {
     "outputs_hidden": true
    }
   },
   "outputs": [
    {
     "name": "stdout",
     "output_type": "stream",
     "text": [
      "Number of outliers = 0, Outliers = []\n"
     ]
    }
   ],
   "source": [
    "q1 = df['exp'].quantile(.25)\n",
    "q3 = df['exp'].quantile(.75)\n",
    "iqr = q3 - q1\n",
    "\n",
    "outliers = []\n",
    "\n",
    "for n in df['exp']:\n",
    "    if n < (q1-(1.5*iqr)) or n > (q3+(1.5*iqr)):\n",
    "        outliers.append(n)\n",
    "\n",
    "print(f\"Number of outliers = {len(outliers)}, Outliers = {outliers}\")"
   ]
  },
  {
   "cell_type": "markdown",
   "metadata": {},
   "source": [
    "#### Use persons.csv and display mean, median, stddev, IQR for height and weight"
   ]
  },
  {
   "cell_type": "code",
   "execution_count": 6,
   "metadata": {
    "collapsed": true,
    "jupyter": {
     "outputs_hidden": true
    }
   },
   "outputs": [
    {
     "name": "stdout",
     "output_type": "stream",
     "text": [
      "Number of observations/rows = 500\n",
      "Mean Height = 169.944, Mean Weight = 106.0\n",
      "Median Height = 170.5, Median Weight = 106.0\n",
      "StdDev Height = 16.375260679593755, StdDev Weight = 32.38260746964435\n",
      "IQR Height = 28.0, IQR Weight = 56.0\n"
     ]
    }
   ],
   "source": [
    "dp = pd.read_csv(\"persons.csv\")\n",
    "print(f\"Number of observations/rows = {len(dp)}\")\n",
    "dp.head()\n",
    "print(f\"Mean Height = {dp['Height'].mean()}, Mean Weight = {dp['Weight'].mean()}\")\n",
    "print(f\"Median Height = {dp['Height'].median()}, Median Weight = {dp['Weight'].median()}\")\n",
    "print(f\"StdDev Height = {s.stdev(dp['Height'])}, StdDev Weight = {s.stdev(dp['Weight'])}\")\n",
    "print(f\"IQR Height = {ss.iqr(dp['Height'])}, IQR Weight = {ss.iqr(dp['Weight'])}\")"
   ]
  },
  {
   "cell_type": "markdown",
   "metadata": {},
   "source": [
    "### Session 7 - 13/04/2020"
   ]
  },
  {
   "cell_type": "markdown",
   "metadata": {},
   "source": [
    "#### For persons.csv, find out:\n",
    "1. Skewness in height\n",
    "1. Skewness in weight\n",
    "1. Draw box plots for height and weight\n",
    "1. Draw scatter plot for height and weight"
   ]
  },
  {
   "cell_type": "code",
   "execution_count": 7,
   "metadata": {
    "collapsed": true,
    "jupyter": {
     "outputs_hidden": true
    }
   },
   "outputs": [
    {
     "name": "stdout",
     "output_type": "stream",
     "text": [
      "Skewness in height -0.12154764352037799\n",
      "Skewness in weight -0.037579065848604216\n"
     ]
    }
   ],
   "source": [
    "print(\"Skewness in height\",ss.skew(dp['Height']))\n",
    "print(\"Skewness in weight\",ss.skew(dp['Weight']))"
   ]
  },
  {
   "cell_type": "code",
   "execution_count": 8,
   "metadata": {
    "collapsed": true,
    "jupyter": {
     "outputs_hidden": true
    }
   },
   "outputs": [
    {
     "data": {
      "text/plain": [
       "<matplotlib.axes._subplots.AxesSubplot at 0x272ae0a3f08>"
      ]
     },
     "execution_count": 8,
     "metadata": {},
     "output_type": "execute_result"
    },
    {
     "data": {
      "image/png": "[encoded data removed]",
      "text/plain": [
       "<Figure size 432x288 with 1 Axes>"
      ]
     },
     "metadata": {
      "needs_background": "light"
     },
     "output_type": "display_data"
    }
   ],
   "source": [
    "dp['Height'].plot.box(showmeans=True,meanline=True)"
   ]
  },
  {
   "cell_type": "code",
   "execution_count": 9,
   "metadata": {
    "collapsed": true,
    "jupyter": {
     "outputs_hidden": true
    }
   },
   "outputs": [
    {
     "data": {
      "text/plain": [
       "<matplotlib.axes._subplots.AxesSubplot at 0x272aed8fd08>"
      ]
     },
     "execution_count": 9,
     "metadata": {},
     "output_type": "execute_result"
    },
    {
     "data": {
      "image/png": "[encoded data removed]",
      "text/plain": [
       "<Figure size 432x288 with 1 Axes>"
      ]
     },
     "metadata": {
      "needs_background": "light"
     },
     "output_type": "display_data"
    }
   ],
   "source": [
    "dp['Weight'].plot.box(showmeans=True,meanline=True)"
   ]
  },
  {
   "cell_type": "code",
   "execution_count": 10,
   "metadata": {
    "collapsed": true,
    "jupyter": {
     "outputs_hidden": true
    }
   },
   "outputs": [
    {
     "data": {
      "text/plain": [
       "<matplotlib.axes._subplots.AxesSubplot at 0x272afde2a88>"
      ]
     },
     "execution_count": 10,
     "metadata": {},
     "output_type": "execute_result"
    },
    {
     "data": {
      "image/png": "[encoded data removed]",
      "text/plain": [
       "<Figure size 432x288 with 1 Axes>"
      ]
     },
     "metadata": {
      "needs_background": "light"
     },
     "output_type": "display_data"
    }
   ],
   "source": [
    "dp.plot.scatter(x='Height',y='Weight')"
   ]
  },
  {
   "cell_type": "markdown",
   "metadata": {},
   "source": [
    "#### Think of data where you have negative correlation"
   ]
  },
  {
   "cell_type": "markdown",
   "metadata": {},
   "source": [
    "- If the train speed increases, duration of travel reduces\n",
    "- As the slope of the road/hill increases, speed of a cyclist or walker decreases\n",
    "- As the car gets older, the insurance amount decreases as IDV decreases\n",
    "- As house gets older, the value decreases"
   ]
  },
  {
   "cell_type": "markdown",
   "metadata": {},
   "source": [
    "### Session 8 - 14/04/2020"
   ]
  },
  {
   "cell_type": "markdown",
   "metadata": {},
   "source": [
    "#### Consider ages (in years), sizes (in sqft) and prices (in lakhs INR) for 10 houses and calculate the price based on size and age."
   ]
  },
  {
   "cell_type": "markdown",
   "metadata": {},
   "source": [
    "#### Create sample data"
   ]
  },
  {
   "cell_type": "code",
   "execution_count": 11,
   "metadata": {
    "collapsed": true,
    "jupyter": {
     "outputs_hidden": true
    }
   },
   "outputs": [],
   "source": [
    "sizes = [2400,2000,2600,1200,1670,1550,3000,2400,1400,3200]  # SQFT\n",
    "ages =  [5,6,2,10,11,7,5,6,8,1]    # Years\n",
    "prices = [20,18,28,12,14,16,22,20,14,32]  # Lakhs"
   ]
  },
  {
   "cell_type": "markdown",
   "metadata": {},
   "source": [
    "#### Find out correlation"
   ]
  },
  {
   "cell_type": "code",
   "execution_count": 16,
   "metadata": {
    "collapsed": true,
    "jupyter": {
     "outputs_hidden": true
    }
   },
   "outputs": [
    {
     "data": {
      "text/plain": [
       "(0.9029830039945835, 0.0003442628472954716)"
      ]
     },
     "execution_count": 16,
     "metadata": {},
     "output_type": "execute_result"
    }
   ],
   "source": [
    "ss.pearsonr(sizes,prices)"
   ]
  },
  {
   "cell_type": "code",
   "execution_count": 17,
   "metadata": {
    "collapsed": true,
    "jupyter": {
     "outputs_hidden": true
    }
   },
   "outputs": [
    {
     "data": {
      "text/plain": [
       "(-0.9507988998204895, 2.4154732242000998e-05)"
      ]
     },
     "execution_count": 17,
     "metadata": {},
     "output_type": "execute_result"
    }
   ],
   "source": [
    "ss.pearsonr(ages,prices)"
   ]
  },
  {
   "cell_type": "markdown",
   "metadata": {},
   "source": [
    "#### Calculate slope and intercept"
   ]
  },
  {
   "cell_type": "code",
   "execution_count": 18,
   "metadata": {
    "collapsed": true,
    "jupyter": {
     "outputs_hidden": true
    }
   },
   "outputs": [
    {
     "data": {
      "text/plain": [
       "LinregressResult(slope=0.008404259343319715, intercept=1.5980764866091697, rvalue=0.9029830039945835, pvalue=0.00034426284729547143, stderr=0.0014138920170457116)"
      ]
     },
     "execution_count": 18,
     "metadata": {},
     "output_type": "execute_result"
    }
   ],
   "source": [
    "size_reg = ss.linregress(sizes, prices)\n",
    "size_reg"
   ]
  },
  {
   "cell_type": "code",
   "execution_count": 19,
   "metadata": {
    "collapsed": true,
    "jupyter": {
     "outputs_hidden": true
    }
   },
   "outputs": [
    {
     "data": {
      "text/plain": [
       "LinregressResult(slope=-1.9302587176602928, intercept=31.374578177727784, rvalue=-0.9507988998204897, pvalue=2.415473224200055e-05, stderr=0.2223696520702189)"
      ]
     },
     "execution_count": 19,
     "metadata": {},
     "output_type": "execute_result"
    }
   ],
   "source": [
    "age_reg = ss.linregress(ages, prices)\n",
    "age_reg"
   ]
  },
  {
   "cell_type": "code",
   "execution_count": 20,
   "metadata": {
    "collapsed": true,
    "jupyter": {
     "outputs_hidden": true
    }
   },
   "outputs": [],
   "source": [
    "size_avg = s.mean(sizes)\n",
    "age_avg =  s.mean(ages)\n",
    "price_avg = s.mean(prices)"
   ]
  },
  {
   "cell_type": "code",
   "execution_count": 21,
   "metadata": {
    "collapsed": true,
    "jupyter": {
     "outputs_hidden": true
    }
   },
   "outputs": [],
   "source": [
    "intercept = price_avg - size_reg.slope * size_avg  - age_reg.slope * age_avg"
   ]
  },
  {
   "cell_type": "code",
   "execution_count": 22,
   "metadata": {
    "collapsed": true,
    "jupyter": {
     "outputs_hidden": true
    }
   },
   "outputs": [
    {
     "name": "stdout",
     "output_type": "stream",
     "text": [
      " 2400     5    23.89    20.00     3.89\n",
      " 2000     6    18.60    18.00     0.60\n",
      " 2600     2    31.36    28.00     3.36\n",
      " 1200    10     4.16    12.00    -7.84\n",
      " 1670    11     6.17    14.00    -7.83\n",
      " 1550     7    12.89    16.00    -3.11\n",
      " 3000     5    28.93    22.00     6.93\n",
      " 2400     6    21.96    20.00     1.96\n",
      " 1400     8     9.70    14.00    -4.30\n",
      " 3200     1    38.34    32.00     6.34\n"
     ]
    }
   ],
   "source": [
    "# Calculate prices based on reg line for both size and age\n",
    "for (size,age, price) in zip(sizes,ages,prices):\n",
    "    p_price = intercept + size * size_reg.slope +  age * age_reg.slope\n",
    "    # find out the difference between predicted and actual \n",
    "    diff = p_price - price\n",
    "    print(f\"{size:5} {age:5} {p_price:8.2f} {price:8.2f} {diff:8.2f}\")"
   ]
  },
  {
   "cell_type": "markdown",
   "metadata": {},
   "source": [
    "### Session 9 - 15/04/2020"
   ]
  },
  {
   "cell_type": "markdown",
   "metadata": {},
   "source": [
    "#### Create an array of 5 * 5 with random numbers in the range 1 to 100 and display how many numbers in the array are even numbers."
   ]
  },
  {
   "cell_type": "code",
   "execution_count": 25,
   "metadata": {
    "collapsed": true,
    "jupyter": {
     "outputs_hidden": true
    }
   },
   "outputs": [
    {
     "name": "stdout",
     "output_type": "stream",
     "text": [
      "[[76 67 83 28 94]\n",
      " [50 37 14 29 37]\n",
      " [19 25 61  7  3]\n",
      " [58 51 98 33 70]\n",
      " [65 28 63 58 40]]\n",
      "11\n"
     ]
    }
   ],
   "source": [
    "# Version 1\n",
    "a = np.random.randint(1,100,(5,5))\n",
    "print(a)\n",
    "count = 0\n",
    "for r in a:\n",
    "    for v in r:\n",
    "        if v % 2 == 0:\n",
    "            #print(v, end=' ')\n",
    "            count += 1\n",
    "print(count)"
   ]
  },
  {
   "cell_type": "code",
   "execution_count": 13,
   "metadata": {
    "collapsed": true,
    "jupyter": {
     "outputs_hidden": true
    }
   },
   "outputs": [
    {
     "name": "stdout",
     "output_type": "stream",
     "text": [
      "10\n",
      "10\n"
     ]
    }
   ],
   "source": [
    "# Count number of even numbers in 5 * 5 array - Version 2\n",
    "a = np.random.randint(1,10,(5,5))\n",
    "# Both work\n",
    "print(a[ a % 2 == 0].size)\n",
    "print((a % 2 == 0).sum())"
   ]
  },
  {
   "cell_type": "markdown",
   "metadata": {},
   "source": [
    "### Session 10 - 16/04/2020"
   ]
  },
  {
   "cell_type": "markdown",
   "metadata": {},
   "source": [
    "#### Take an array of 10 elements and increment all even numbers by 1 and odd numbers by 2"
   ]
  },
  {
   "cell_type": "code",
   "execution_count": 15,
   "metadata": {
    "collapsed": true,
    "jupyter": {
     "outputs_hidden": true
    }
   },
   "outputs": [
    {
     "name": "stdout",
     "output_type": "stream",
     "text": [
      "Orignial Array :  [9 1 2 9 9 7 4 8 5 6]\n",
      "Modified Array :  [11  3  3 11 11  9  5  9  7  7]\n"
     ]
    }
   ],
   "source": [
    "a = np.random.randint(1,10,10)\n",
    "print(\"Orignial Array : \", a)\n",
    "even_idx = a % 2 == 0\n",
    "odd_idx = a % 2 == 1\n",
    "a[even_idx] = a[even_idx] + 1\n",
    "a[odd_idx] = a[odd_idx] + 2\n",
    "print(\"Modified Array : \",a)"
   ]
  },
  {
   "cell_type": "markdown",
   "metadata": {},
   "source": [
    "#### Display the elements in the array that are greater than the average of the array"
   ]
  },
  {
   "cell_type": "code",
   "execution_count": 16,
   "metadata": {
    "collapsed": true,
    "jupyter": {
     "outputs_hidden": true
    }
   },
   "outputs": [
    {
     "name": "stdout",
     "output_type": "stream",
     "text": [
      "[4 7 3 6 4 4 6 8 8 7] 5.7\n"
     ]
    },
    {
     "data": {
      "text/plain": [
       "array([7, 6, 6, 8, 8, 7])"
      ]
     },
     "execution_count": 16,
     "metadata": {},
     "output_type": "execute_result"
    }
   ],
   "source": [
    "a = np.random.randint(1,10,10)\n",
    "avg = a.mean()\n",
    "print(a, avg)\n",
    "a[a > avg]"
   ]
  },
  {
   "cell_type": "markdown",
   "metadata": {},
   "source": [
    "#### Take an array of 10 rows with 5 columns (fill it with random numbers) and display average for each row and which row is having highest average (if 2 students got the same highest average, display both the student rows)."
   ]
  },
  {
   "cell_type": "code",
   "execution_count": 18,
   "metadata": {
    "collapsed": true,
    "jupyter": {
     "outputs_hidden": true
    }
   },
   "outputs": [
    {
     "name": "stdout",
     "output_type": "stream",
     "text": [
      "[[90 74 69 64 75]\n",
      " [56 55 73 53 78]\n",
      " [99 60 69 86 69]\n",
      " [52 55 57 91 71]\n",
      " [87 57 84 52 72]\n",
      " [65 81 98 61 74]\n",
      " [58 74 99 79 58]\n",
      " [69 81 62 69 77]\n",
      " [72 79 61 87 98]\n",
      " [70 86 87 51 87]]\n",
      "Averages for each row =  [74.4 63.  76.6 65.2 70.4 75.8 73.6 71.6 79.4 76.2]\n",
      "Highest average =  79.4\n"
     ]
    },
    {
     "data": {
      "text/plain": [
       "array([[72, 79, 61, 87, 98]])"
      ]
     },
     "execution_count": 18,
     "metadata": {},
     "output_type": "execute_result"
    }
   ],
   "source": [
    "a = np.random.randint(50,100,(10,5))\n",
    "print(a)\n",
    "avg = a.mean(axis=1)\n",
    "print(\"Averages for each row = \", avg)\n",
    "max_avg = avg.max()\n",
    "print(\"Highest average = \", max_avg)\n",
    "a[a.mean(axis=1) == max_avg]"
   ]
  },
  {
   "cell_type": "markdown",
   "metadata": {},
   "source": [
    "###  Session 11 - 17/04/2020"
   ]
  },
  {
   "cell_type": "markdown",
   "metadata": {},
   "source": [
    "#### Find a scenario where broadcast is not possible. See whether broadcasting can be achieved by transposing or reshaping."
   ]
  },
  {
   "cell_type": "code",
   "execution_count": 19,
   "metadata": {
    "collapsed": true,
    "jupyter": {
     "outputs_hidden": true
    }
   },
   "outputs": [
    {
     "name": "stdout",
     "output_type": "stream",
     "text": [
      "[[3 5 5 4]\n",
      " [7 5 5 3]]\n",
      "[[7 1]\n",
      " [7 5]\n",
      " [1 3]\n",
      " [3 3]]\n"
     ]
    },
    {
     "ename": "ValueError",
     "evalue": "operands could not be broadcast together with shapes (2,4) (4,2) ",
     "output_type": "error",
     "traceback": [
      "\u001b[1;31m---------------------------------------------------------------------------\u001b[0m",
      "\u001b[1;31mValueError\u001b[0m                                Traceback (most recent call last)",
      "\u001b[1;32m<ipython-input-19-e330d82b7063>\u001b[0m in \u001b[0;36m<module>\u001b[1;34m\u001b[0m\n\u001b[0;32m      3\u001b[0m \u001b[0mprint\u001b[0m\u001b[1;33m(\u001b[0m\u001b[0ma\u001b[0m\u001b[1;33m)\u001b[0m\u001b[1;33m\u001b[0m\u001b[1;33m\u001b[0m\u001b[0m\n\u001b[0;32m      4\u001b[0m \u001b[0mprint\u001b[0m\u001b[1;33m(\u001b[0m\u001b[0mb\u001b[0m\u001b[1;33m)\u001b[0m\u001b[1;33m\u001b[0m\u001b[1;33m\u001b[0m\u001b[0m\n\u001b[1;32m----> 5\u001b[1;33m \u001b[0ma\u001b[0m \u001b[1;33m+\u001b[0m \u001b[0mb\u001b[0m\u001b[1;33m\u001b[0m\u001b[1;33m\u001b[0m\u001b[0m\n\u001b[0m",
      "\u001b[1;31mValueError\u001b[0m: operands could not be broadcast together with shapes (2,4) (4,2) "
     ]
    }
   ],
   "source": [
    "a = np.random.randint(1,9,(2,4))\n",
    "b = np.random.randint(1,9,(4,2))\n",
    "print(a)\n",
    "print(b)\n",
    "a + b"
   ]
  },
  {
   "cell_type": "code",
   "execution_count": 20,
   "metadata": {
    "collapsed": true,
    "jupyter": {
     "outputs_hidden": true
    }
   },
   "outputs": [
    {
     "data": {
      "text/plain": [
       "array([[10, 12,  6,  7],\n",
       "       [ 8, 10,  8,  6]])"
      ]
     },
     "execution_count": 20,
     "metadata": {},
     "output_type": "execute_result"
    }
   ],
   "source": [
    "a + b.T"
   ]
  },
  {
   "cell_type": "markdown",
   "metadata": {},
   "source": [
    "#### Take 2 arrays of 5 * 5 and display how many corresponding elements in both arrays are having same values"
   ]
  },
  {
   "cell_type": "code",
   "execution_count": 22,
   "metadata": {
    "collapsed": true,
    "jupyter": {
     "outputs_hidden": true
    }
   },
   "outputs": [
    {
     "name": "stdout",
     "output_type": "stream",
     "text": [
      "[[11  1  7 11  3]\n",
      " [ 3  8  4 14 13]\n",
      " [ 8  8  7  5 10]\n",
      " [13  3 10 12 14]\n",
      " [ 6 14  7 11  2]]\n",
      "[[14  6 10 11  9]\n",
      " [10 12  2  6 11]\n",
      " [ 5  9 10  7  1]\n",
      " [ 7  4  2  7  7]\n",
      " [ 3 12  4  7  4]]\n"
     ]
    },
    {
     "data": {
      "text/plain": [
       "1"
      ]
     },
     "execution_count": 22,
     "metadata": {},
     "output_type": "execute_result"
    }
   ],
   "source": [
    "a = np.random.randint(1,15,(5,5))\n",
    "b = np.random.randint(1,15,(5,5))\n",
    "print(a)\n",
    "print(b)\n",
    "(a == b).sum()  # Count number of elements with same values in corresponding positions"
   ]
  },
  {
   "cell_type": "code",
   "execution_count": 23,
   "metadata": {
    "collapsed": true,
    "jupyter": {
     "outputs_hidden": true
    }
   },
   "outputs": [
    {
     "name": "stdout",
     "output_type": "stream",
     "text": [
      "At [0,3], value = 11\n",
      "1\n"
     ]
    }
   ],
   "source": [
    "# Print all values and positions\n",
    "count = 0\n",
    "for i in range(0,4):\n",
    "    for j in range(0,4):\n",
    "        if a[i,j] == b[i,j]:\n",
    "            print(f\"At [{i},{j}], value = {a[i,j]}\")\n",
    "            count += 1 \n",
    "print(count)"
   ]
  },
  {
   "cell_type": "markdown",
   "metadata": {},
   "source": [
    "#### Find out whether you get a view or a copy for boolean indexing"
   ]
  },
  {
   "cell_type": "code",
   "execution_count": 24,
   "metadata": {
    "collapsed": true,
    "jupyter": {
     "outputs_hidden": true
    }
   },
   "outputs": [],
   "source": [
    "a = np.array([1,2,3,4,5])\n",
    "b = a[a % 2 == 0]"
   ]
  },
  {
   "cell_type": "code",
   "execution_count": 27,
   "metadata": {
    "collapsed": true,
    "jupyter": {
     "outputs_hidden": true
    }
   },
   "outputs": [
    {
     "name": "stdout",
     "output_type": "stream",
     "text": [
      "[1 2 3 4 5]\n",
      "[10  4]\n"
     ]
    }
   ],
   "source": [
    "print(a)\n",
    "b[0] = 10\n",
    "print(b)"
   ]
  },
  {
   "cell_type": "markdown",
   "metadata": {},
   "source": [
    "##### a is not affected by changing b; therefore, a copy is created for boolean indexing"
   ]
  },
  {
   "cell_type": "markdown",
   "metadata": {},
   "source": [
    "### Session 12 - 18/04/2020"
   ]
  },
  {
   "cell_type": "code",
   "execution_count": 29,
   "metadata": {
    "collapsed": true,
    "jupyter": {
     "outputs_hidden": true
    }
   },
   "outputs": [],
   "source": [
    "import matplotlib.pyplot as plt\n",
    "import matplotlib.image as image\n",
    "from scipy import misc"
   ]
  },
  {
   "cell_type": "markdown",
   "metadata": {},
   "source": [
    "#### Take an image, split it into two halves vertically and interchange those two parts (hint: split & stack in reverse order). "
   ]
  },
  {
   "cell_type": "code",
   "execution_count": 30,
   "metadata": {
    "collapsed": true,
    "jupyter": {
     "outputs_hidden": true
    }
   },
   "outputs": [
    {
     "data": {
      "text/plain": [
       "<matplotlib.image.AxesImage at 0x272b011dbc8>"
      ]
     },
     "execution_count": 30,
     "metadata": {},
     "output_type": "execute_result"
    },
    {
     "data": {
      "image/png": "[encoded data removed]",
      "text/plain": [
       "<Figure size 432x288 with 1 Axes>"
      ]
     },
     "metadata": {
      "needs_background": "light"
     },
     "output_type": "display_data"
    }
   ],
   "source": [
    "raccoon = misc.face()\n",
    "img1, img2 = np.vsplit(raccoon,2)\n",
    "new_img = np.vstack((img2,img1))\n",
    "plt.imshow(new_img)"
   ]
  },
  {
   "cell_type": "markdown",
   "metadata": {},
   "source": [
    "#### Load an image and interchange red with green."
   ]
  },
  {
   "cell_type": "code",
   "execution_count": 39,
   "metadata": {
    "collapsed": true,
    "jupyter": {
     "outputs_hidden": true
    }
   },
   "outputs": [
    {
     "data": {
      "text/plain": [
       "<matplotlib.image.AxesImage at 0x272b05f8f48>"
      ]
     },
     "execution_count": 39,
     "metadata": {},
     "output_type": "execute_result"
    },
    {
     "data": {
      "image/png": "[encoded data removed]",
      "text/plain": [
       "<Figure size 432x288 with 1 Axes>"
      ]
     },
     "metadata": {
      "needs_background": "light"
     },
     "output_type": "display_data"
    }
   ],
   "source": [
    "raccoon = misc.face()\n",
    "r_img = raccoon.copy()\n",
    "for p in r_img:\n",
    "    for n in p:\n",
    "        n[0],n[1] = n[1], n[0]  # Swap red and green\n",
    "plt.imshow(r_img)"
   ]
  },
  {
   "cell_type": "code",
   "execution_count": 38,
   "metadata": {
    "collapsed": true,
    "jupyter": {
     "outputs_hidden": true
    }
   },
   "outputs": [
    {
     "data": {
      "text/plain": [
       "<matplotlib.image.AxesImage at 0x272b05989c8>"
      ]
     },
     "execution_count": 38,
     "metadata": {},
     "output_type": "execute_result"
    },
    {
     "data": {
      "image/png": "[encoded data removed]",
      "text/plain": [
       "<Figure size 432x288 with 1 Axes>"
      ]
     },
     "metadata": {
      "needs_background": "light"
     },
     "output_type": "display_data"
    }
   ],
   "source": [
    "# Another way to swap red and green\n",
    "raccoon = misc.face()\n",
    "img = raccoon.copy()\n",
    "red = img[:,:,0].copy()\n",
    "green = img[:,:,1].copy()\n",
    "img[:,:,1] = red\n",
    "img[:,:,0] = green\n",
    "plt.imshow(img)"
   ]
  },
  {
   "cell_type": "code",
   "execution_count": 40,
   "metadata": {
    "collapsed": true,
    "jupyter": {
     "outputs_hidden": true
    }
   },
   "outputs": [
    {
     "data": {
      "text/plain": [
       "(array([121, 112, 131], dtype=uint8), array([112, 121, 131], dtype=uint8))"
      ]
     },
     "execution_count": 40,
     "metadata": {},
     "output_type": "execute_result"
    }
   ],
   "source": [
    "# Verification\n",
    "raccoon[0,0], img[0,0]"
   ]
  },
  {
   "cell_type": "markdown",
   "metadata": {},
   "source": [
    "### Session 13 - 20/04/2020"
   ]
  },
  {
   "cell_type": "code",
   "execution_count": 42,
   "metadata": {
    "collapsed": true,
    "jupyter": {
     "outputs_hidden": true
    }
   },
   "outputs": [],
   "source": [
    "countries = pd.read_json(\"https://restcountries.eu/rest/v2/all\")"
   ]
  },
  {
   "cell_type": "code",
   "execution_count": 43,
   "metadata": {
    "collapsed": true,
    "jupyter": {
     "outputs_hidden": true
    }
   },
   "outputs": [
    {
     "data": {
      "text/html": [
       "<div>\n",
       "<style scoped>\n",
       "    .dataframe tbody tr th:only-of-type {\n",
       "        vertical-align: middle;\n",
       "    }\n",
       "\n",
       "    .dataframe tbody tr th {\n",
       "        vertical-align: top;\n",
       "    }\n",
       "\n",
       "    .dataframe thead th {\n",
       "        text-align: right;\n",
       "    }\n",
       "</style>\n",
       "<table border=\"1\" class=\"dataframe\">\n",
       "  <thead>\n",
       "    <tr style=\"text-align: right;\">\n",
       "      <th></th>\n",
       "      <th>name</th>\n",
       "      <th>topLevelDomain</th>\n",
       "      <th>alpha2Code</th>\n",
       "      <th>alpha3Code</th>\n",
       "      <th>callingCodes</th>\n",
       "      <th>capital</th>\n",
       "      <th>altSpellings</th>\n",
       "      <th>region</th>\n",
       "      <th>subregion</th>\n",
       "      <th>population</th>\n",
       "      <th>...</th>\n",
       "      <th>timezones</th>\n",
       "      <th>borders</th>\n",
       "      <th>nativeName</th>\n",
       "      <th>numericCode</th>\n",
       "      <th>currencies</th>\n",
       "      <th>languages</th>\n",
       "      <th>translations</th>\n",
       "      <th>flag</th>\n",
       "      <th>regionalBlocs</th>\n",
       "      <th>cioc</th>\n",
       "    </tr>\n",
       "  </thead>\n",
       "  <tbody>\n",
       "    <tr>\n",
       "      <th>0</th>\n",
       "      <td>Afghanistan</td>\n",
       "      <td>[.af]</td>\n",
       "      <td>AF</td>\n",
       "      <td>AFG</td>\n",
       "      <td>[93]</td>\n",
       "      <td>Kabul</td>\n",
       "      <td>[AF, Afġānistān]</td>\n",
       "      <td>Asia</td>\n",
       "      <td>Southern Asia</td>\n",
       "      <td>27657145</td>\n",
       "      <td>...</td>\n",
       "      <td>[UTC+04:30]</td>\n",
       "      <td>[IRN, PAK, TKM, UZB, TJK, CHN]</td>\n",
       "      <td>افغانستان</td>\n",
       "      <td>4.0</td>\n",
       "      <td>[{'code': 'AFN', 'name': 'Afghan afghani', 'sy...</td>\n",
       "      <td>[{'iso639_1': 'ps', 'iso639_2': 'pus', 'name':...</td>\n",
       "      <td>{'de': 'Afghanistan', 'es': 'Afganistán', 'fr'...</td>\n",
       "      <td>https://restcountries.eu/data/afg.svg</td>\n",
       "      <td>[{'acronym': 'SAARC', 'name': 'South Asian Ass...</td>\n",
       "      <td>AFG</td>\n",
       "    </tr>\n",
       "    <tr>\n",
       "      <th>1</th>\n",
       "      <td>Åland Islands</td>\n",
       "      <td>[.ax]</td>\n",
       "      <td>AX</td>\n",
       "      <td>ALA</td>\n",
       "      <td>[358]</td>\n",
       "      <td>Mariehamn</td>\n",
       "      <td>[AX, Aaland, Aland, Ahvenanmaa]</td>\n",
       "      <td>Europe</td>\n",
       "      <td>Northern Europe</td>\n",
       "      <td>28875</td>\n",
       "      <td>...</td>\n",
       "      <td>[UTC+02:00]</td>\n",
       "      <td>[]</td>\n",
       "      <td>Åland</td>\n",
       "      <td>248.0</td>\n",
       "      <td>[{'code': 'EUR', 'name': 'Euro', 'symbol': '€'}]</td>\n",
       "      <td>[{'iso639_1': 'sv', 'iso639_2': 'swe', 'name':...</td>\n",
       "      <td>{'de': 'Åland', 'es': 'Alandia', 'fr': 'Åland'...</td>\n",
       "      <td>https://restcountries.eu/data/ala.svg</td>\n",
       "      <td>[{'acronym': 'EU', 'name': 'European Union', '...</td>\n",
       "      <td></td>\n",
       "    </tr>\n",
       "    <tr>\n",
       "      <th>2</th>\n",
       "      <td>Albania</td>\n",
       "      <td>[.al]</td>\n",
       "      <td>AL</td>\n",
       "      <td>ALB</td>\n",
       "      <td>[355]</td>\n",
       "      <td>Tirana</td>\n",
       "      <td>[AL, Shqipëri, Shqipëria, Shqipnia]</td>\n",
       "      <td>Europe</td>\n",
       "      <td>Southern Europe</td>\n",
       "      <td>2886026</td>\n",
       "      <td>...</td>\n",
       "      <td>[UTC+01:00]</td>\n",
       "      <td>[MNE, GRC, MKD, KOS]</td>\n",
       "      <td>Shqipëria</td>\n",
       "      <td>8.0</td>\n",
       "      <td>[{'code': 'ALL', 'name': 'Albanian lek', 'symb...</td>\n",
       "      <td>[{'iso639_1': 'sq', 'iso639_2': 'sqi', 'name':...</td>\n",
       "      <td>{'de': 'Albanien', 'es': 'Albania', 'fr': 'Alb...</td>\n",
       "      <td>https://restcountries.eu/data/alb.svg</td>\n",
       "      <td>[{'acronym': 'CEFTA', 'name': 'Central Europea...</td>\n",
       "      <td>ALB</td>\n",
       "    </tr>\n",
       "    <tr>\n",
       "      <th>3</th>\n",
       "      <td>Algeria</td>\n",
       "      <td>[.dz]</td>\n",
       "      <td>DZ</td>\n",
       "      <td>DZA</td>\n",
       "      <td>[213]</td>\n",
       "      <td>Algiers</td>\n",
       "      <td>[DZ, Dzayer, Algérie]</td>\n",
       "      <td>Africa</td>\n",
       "      <td>Northern Africa</td>\n",
       "      <td>40400000</td>\n",
       "      <td>...</td>\n",
       "      <td>[UTC+01:00]</td>\n",
       "      <td>[TUN, LBY, NER, ESH, MRT, MLI, MAR]</td>\n",
       "      <td>الجزائر</td>\n",
       "      <td>12.0</td>\n",
       "      <td>[{'code': 'DZD', 'name': 'Algerian dinar', 'sy...</td>\n",
       "      <td>[{'iso639_1': 'ar', 'iso639_2': 'ara', 'name':...</td>\n",
       "      <td>{'de': 'Algerien', 'es': 'Argelia', 'fr': 'Alg...</td>\n",
       "      <td>https://restcountries.eu/data/dza.svg</td>\n",
       "      <td>[{'acronym': 'AU', 'name': 'African Union', 'o...</td>\n",
       "      <td>ALG</td>\n",
       "    </tr>\n",
       "    <tr>\n",
       "      <th>4</th>\n",
       "      <td>American Samoa</td>\n",
       "      <td>[.as]</td>\n",
       "      <td>AS</td>\n",
       "      <td>ASM</td>\n",
       "      <td>[1684]</td>\n",
       "      <td>Pago Pago</td>\n",
       "      <td>[AS, Amerika Sāmoa, Amelika Sāmoa, Sāmoa Amelika]</td>\n",
       "      <td>Oceania</td>\n",
       "      <td>Polynesia</td>\n",
       "      <td>57100</td>\n",
       "      <td>...</td>\n",
       "      <td>[UTC-11:00]</td>\n",
       "      <td>[]</td>\n",
       "      <td>American Samoa</td>\n",
       "      <td>16.0</td>\n",
       "      <td>[{'code': 'USD', 'name': 'United State Dollar'...</td>\n",
       "      <td>[{'iso639_1': 'en', 'iso639_2': 'eng', 'name':...</td>\n",
       "      <td>{'de': 'Amerikanisch-Samoa', 'es': 'Samoa Amer...</td>\n",
       "      <td>https://restcountries.eu/data/asm.svg</td>\n",
       "      <td>[]</td>\n",
       "      <td>ASA</td>\n",
       "    </tr>\n",
       "  </tbody>\n",
       "</table>\n",
       "<p>5 rows × 24 columns</p>\n",
       "</div>"
      ],
      "text/plain": [
       "             name topLevelDomain alpha2Code alpha3Code callingCodes  \\\n",
       "0     Afghanistan          [.af]         AF        AFG         [93]   \n",
       "1   Åland Islands          [.ax]         AX        ALA        [358]   \n",
       "2         Albania          [.al]         AL        ALB        [355]   \n",
       "3         Algeria          [.dz]         DZ        DZA        [213]   \n",
       "4  American Samoa          [.as]         AS        ASM       [1684]   \n",
       "\n",
       "     capital                                       altSpellings   region  \\\n",
       "0      Kabul                                   [AF, Afġānistān]     Asia   \n",
       "1  Mariehamn                    [AX, Aaland, Aland, Ahvenanmaa]   Europe   \n",
       "2     Tirana                [AL, Shqipëri, Shqipëria, Shqipnia]   Europe   \n",
       "3    Algiers                              [DZ, Dzayer, Algérie]   Africa   \n",
       "4  Pago Pago  [AS, Amerika Sāmoa, Amelika Sāmoa, Sāmoa Amelika]  Oceania   \n",
       "\n",
       "         subregion  population  ...    timezones  \\\n",
       "0    Southern Asia    27657145  ...  [UTC+04:30]   \n",
       "1  Northern Europe       28875  ...  [UTC+02:00]   \n",
       "2  Southern Europe     2886026  ...  [UTC+01:00]   \n",
       "3  Northern Africa    40400000  ...  [UTC+01:00]   \n",
       "4        Polynesia       57100  ...  [UTC-11:00]   \n",
       "\n",
       "                               borders      nativeName  numericCode  \\\n",
       "0       [IRN, PAK, TKM, UZB, TJK, CHN]       افغانستان          4.0   \n",
       "1                                   []           Åland        248.0   \n",
       "2                 [MNE, GRC, MKD, KOS]       Shqipëria          8.0   \n",
       "3  [TUN, LBY, NER, ESH, MRT, MLI, MAR]         الجزائر         12.0   \n",
       "4                                   []  American Samoa         16.0   \n",
       "\n",
       "                                          currencies  \\\n",
       "0  [{'code': 'AFN', 'name': 'Afghan afghani', 'sy...   \n",
       "1   [{'code': 'EUR', 'name': 'Euro', 'symbol': '€'}]   \n",
       "2  [{'code': 'ALL', 'name': 'Albanian lek', 'symb...   \n",
       "3  [{'code': 'DZD', 'name': 'Algerian dinar', 'sy...   \n",
       "4  [{'code': 'USD', 'name': 'United State Dollar'...   \n",
       "\n",
       "                                           languages  \\\n",
       "0  [{'iso639_1': 'ps', 'iso639_2': 'pus', 'name':...   \n",
       "1  [{'iso639_1': 'sv', 'iso639_2': 'swe', 'name':...   \n",
       "2  [{'iso639_1': 'sq', 'iso639_2': 'sqi', 'name':...   \n",
       "3  [{'iso639_1': 'ar', 'iso639_2': 'ara', 'name':...   \n",
       "4  [{'iso639_1': 'en', 'iso639_2': 'eng', 'name':...   \n",
       "\n",
       "                                        translations  \\\n",
       "0  {'de': 'Afghanistan', 'es': 'Afganistán', 'fr'...   \n",
       "1  {'de': 'Åland', 'es': 'Alandia', 'fr': 'Åland'...   \n",
       "2  {'de': 'Albanien', 'es': 'Albania', 'fr': 'Alb...   \n",
       "3  {'de': 'Algerien', 'es': 'Argelia', 'fr': 'Alg...   \n",
       "4  {'de': 'Amerikanisch-Samoa', 'es': 'Samoa Amer...   \n",
       "\n",
       "                                    flag  \\\n",
       "0  https://restcountries.eu/data/afg.svg   \n",
       "1  https://restcountries.eu/data/ala.svg   \n",
       "2  https://restcountries.eu/data/alb.svg   \n",
       "3  https://restcountries.eu/data/dza.svg   \n",
       "4  https://restcountries.eu/data/asm.svg   \n",
       "\n",
       "                                       regionalBlocs cioc  \n",
       "0  [{'acronym': 'SAARC', 'name': 'South Asian Ass...  AFG  \n",
       "1  [{'acronym': 'EU', 'name': 'European Union', '...       \n",
       "2  [{'acronym': 'CEFTA', 'name': 'Central Europea...  ALB  \n",
       "3  [{'acronym': 'AU', 'name': 'African Union', 'o...  ALG  \n",
       "4                                                 []  ASA  \n",
       "\n",
       "[5 rows x 24 columns]"
      ]
     },
     "execution_count": 43,
     "metadata": {},
     "output_type": "execute_result"
    }
   ],
   "source": [
    "countries.head()"
   ]
  },
  {
   "cell_type": "markdown",
   "metadata": {},
   "source": [
    "## 21-APR-2020"
   ]
  },
  {
   "cell_type": "code",
   "execution_count": 1,
   "metadata": {},
   "outputs": [],
   "source": [
    "import pandas as pd"
   ]
  },
  {
   "cell_type": "code",
   "execution_count": 2,
   "metadata": {},
   "outputs": [],
   "source": [
    "df = pd.read_json(\"https://restcountries.eu/rest/v2/all\")"
   ]
  },
  {
   "cell_type": "markdown",
   "metadata": {},
   "source": [
    "#### Display country names in regions - Asia, Africa and Europe"
   ]
  },
  {
   "cell_type": "code",
   "execution_count": 3,
   "metadata": {
    "collapsed": true,
    "jupyter": {
     "outputs_hidden": true
    }
   },
   "outputs": [
    {
     "data": {
      "text/html": [
       "<div>\n",
       "<style scoped>\n",
       "    .dataframe tbody tr th:only-of-type {\n",
       "        vertical-align: middle;\n",
       "    }\n",
       "\n",
       "    .dataframe tbody tr th {\n",
       "        vertical-align: top;\n",
       "    }\n",
       "\n",
       "    .dataframe thead th {\n",
       "        text-align: right;\n",
       "    }\n",
       "</style>\n",
       "<table border=\"1\" class=\"dataframe\">\n",
       "  <thead>\n",
       "    <tr style=\"text-align: right;\">\n",
       "      <th></th>\n",
       "      <th>name</th>\n",
       "      <th>region</th>\n",
       "    </tr>\n",
       "  </thead>\n",
       "  <tbody>\n",
       "    <tr>\n",
       "      <th>0</th>\n",
       "      <td>Afghanistan</td>\n",
       "      <td>Asia</td>\n",
       "    </tr>\n",
       "    <tr>\n",
       "      <th>1</th>\n",
       "      <td>Åland Islands</td>\n",
       "      <td>Europe</td>\n",
       "    </tr>\n",
       "    <tr>\n",
       "      <th>2</th>\n",
       "      <td>Albania</td>\n",
       "      <td>Europe</td>\n",
       "    </tr>\n",
       "    <tr>\n",
       "      <th>3</th>\n",
       "      <td>Algeria</td>\n",
       "      <td>Africa</td>\n",
       "    </tr>\n",
       "    <tr>\n",
       "      <th>5</th>\n",
       "      <td>Andorra</td>\n",
       "      <td>Europe</td>\n",
       "    </tr>\n",
       "    <tr>\n",
       "      <th>...</th>\n",
       "      <td>...</td>\n",
       "      <td>...</td>\n",
       "    </tr>\n",
       "    <tr>\n",
       "      <th>244</th>\n",
       "      <td>Viet Nam</td>\n",
       "      <td>Asia</td>\n",
       "    </tr>\n",
       "    <tr>\n",
       "      <th>246</th>\n",
       "      <td>Western Sahara</td>\n",
       "      <td>Africa</td>\n",
       "    </tr>\n",
       "    <tr>\n",
       "      <th>247</th>\n",
       "      <td>Yemen</td>\n",
       "      <td>Asia</td>\n",
       "    </tr>\n",
       "    <tr>\n",
       "      <th>248</th>\n",
       "      <td>Zambia</td>\n",
       "      <td>Africa</td>\n",
       "    </tr>\n",
       "    <tr>\n",
       "      <th>249</th>\n",
       "      <td>Zimbabwe</td>\n",
       "      <td>Africa</td>\n",
       "    </tr>\n",
       "  </tbody>\n",
       "</table>\n",
       "<p>163 rows × 2 columns</p>\n",
       "</div>"
      ],
      "text/plain": [
       "               name  region\n",
       "0       Afghanistan    Asia\n",
       "1     Åland Islands  Europe\n",
       "2           Albania  Europe\n",
       "3           Algeria  Africa\n",
       "5           Andorra  Europe\n",
       "..              ...     ...\n",
       "244        Viet Nam    Asia\n",
       "246  Western Sahara  Africa\n",
       "247           Yemen    Asia\n",
       "248          Zambia  Africa\n",
       "249        Zimbabwe  Africa\n",
       "\n",
       "[163 rows x 2 columns]"
      ]
     },
     "execution_count": 3,
     "metadata": {},
     "output_type": "execute_result"
    }
   ],
   "source": [
    "df.loc[df['region'].isin(['Asia','Africa','Europe']),['name','region']]"
   ]
  },
  {
   "cell_type": "markdown",
   "metadata": {},
   "source": [
    "#### Display top 5 countries based on population"
   ]
  },
  {
   "cell_type": "code",
   "execution_count": 4,
   "metadata": {},
   "outputs": [
    {
     "data": {
      "text/html": [
       "<div>\n",
       "<style scoped>\n",
       "    .dataframe tbody tr th:only-of-type {\n",
       "        vertical-align: middle;\n",
       "    }\n",
       "\n",
       "    .dataframe tbody tr th {\n",
       "        vertical-align: top;\n",
       "    }\n",
       "\n",
       "    .dataframe thead th {\n",
       "        text-align: right;\n",
       "    }\n",
       "</style>\n",
       "<table border=\"1\" class=\"dataframe\">\n",
       "  <thead>\n",
       "    <tr style=\"text-align: right;\">\n",
       "      <th></th>\n",
       "      <th>name</th>\n",
       "      <th>population</th>\n",
       "    </tr>\n",
       "  </thead>\n",
       "  <tbody>\n",
       "    <tr>\n",
       "      <th>48</th>\n",
       "      <td>China</td>\n",
       "      <td>1377422166</td>\n",
       "    </tr>\n",
       "    <tr>\n",
       "      <th>104</th>\n",
       "      <td>India</td>\n",
       "      <td>1295210000</td>\n",
       "    </tr>\n",
       "    <tr>\n",
       "      <th>239</th>\n",
       "      <td>United States of America</td>\n",
       "      <td>323947000</td>\n",
       "    </tr>\n",
       "    <tr>\n",
       "      <th>105</th>\n",
       "      <td>Indonesia</td>\n",
       "      <td>258705000</td>\n",
       "    </tr>\n",
       "    <tr>\n",
       "      <th>31</th>\n",
       "      <td>Brazil</td>\n",
       "      <td>206135893</td>\n",
       "    </tr>\n",
       "  </tbody>\n",
       "</table>\n",
       "</div>"
      ],
      "text/plain": [
       "                         name  population\n",
       "48                      China  1377422166\n",
       "104                     India  1295210000\n",
       "239  United States of America   323947000\n",
       "105                 Indonesia   258705000\n",
       "31                     Brazil   206135893"
      ]
     },
     "execution_count": 4,
     "metadata": {},
     "output_type": "execute_result"
    }
   ],
   "source": [
    "df.nlargest(5,'population')[['name','population']]"
   ]
  },
  {
   "cell_type": "markdown",
   "metadata": {},
   "source": [
    "#### Display country name, population, region for countries where area of the country is more than 500000 sq. kms."
   ]
  },
  {
   "cell_type": "code",
   "execution_count": 5,
   "metadata": {
    "collapsed": true,
    "jupyter": {
     "outputs_hidden": true
    }
   },
   "outputs": [
    {
     "data": {
      "text/html": [
       "<div>\n",
       "<style scoped>\n",
       "    .dataframe tbody tr th:only-of-type {\n",
       "        vertical-align: middle;\n",
       "    }\n",
       "\n",
       "    .dataframe tbody tr th {\n",
       "        vertical-align: top;\n",
       "    }\n",
       "\n",
       "    .dataframe thead th {\n",
       "        text-align: right;\n",
       "    }\n",
       "</style>\n",
       "<table border=\"1\" class=\"dataframe\">\n",
       "  <thead>\n",
       "    <tr style=\"text-align: right;\">\n",
       "      <th></th>\n",
       "      <th>name</th>\n",
       "      <th>population</th>\n",
       "      <th>region</th>\n",
       "    </tr>\n",
       "  </thead>\n",
       "  <tbody>\n",
       "    <tr>\n",
       "      <th>0</th>\n",
       "      <td>Afghanistan</td>\n",
       "      <td>27657145</td>\n",
       "      <td>Asia</td>\n",
       "    </tr>\n",
       "    <tr>\n",
       "      <th>3</th>\n",
       "      <td>Algeria</td>\n",
       "      <td>40400000</td>\n",
       "      <td>Africa</td>\n",
       "    </tr>\n",
       "    <tr>\n",
       "      <th>6</th>\n",
       "      <td>Angola</td>\n",
       "      <td>25868000</td>\n",
       "      <td>Africa</td>\n",
       "    </tr>\n",
       "    <tr>\n",
       "      <th>8</th>\n",
       "      <td>Antarctica</td>\n",
       "      <td>1000</td>\n",
       "      <td>Polar</td>\n",
       "    </tr>\n",
       "    <tr>\n",
       "      <th>10</th>\n",
       "      <td>Argentina</td>\n",
       "      <td>43590400</td>\n",
       "      <td>Americas</td>\n",
       "    </tr>\n",
       "    <tr>\n",
       "      <th>13</th>\n",
       "      <td>Australia</td>\n",
       "      <td>24117360</td>\n",
       "      <td>Oceania</td>\n",
       "    </tr>\n",
       "    <tr>\n",
       "      <th>26</th>\n",
       "      <td>Bolivia (Plurinational State of)</td>\n",
       "      <td>10985059</td>\n",
       "      <td>Americas</td>\n",
       "    </tr>\n",
       "    <tr>\n",
       "      <th>29</th>\n",
       "      <td>Botswana</td>\n",
       "      <td>2141206</td>\n",
       "      <td>Africa</td>\n",
       "    </tr>\n",
       "    <tr>\n",
       "      <th>31</th>\n",
       "      <td>Brazil</td>\n",
       "      <td>206135893</td>\n",
       "      <td>Americas</td>\n",
       "    </tr>\n",
       "    <tr>\n",
       "      <th>42</th>\n",
       "      <td>Canada</td>\n",
       "      <td>36155487</td>\n",
       "      <td>Americas</td>\n",
       "    </tr>\n",
       "    <tr>\n",
       "      <th>45</th>\n",
       "      <td>Central African Republic</td>\n",
       "      <td>4998000</td>\n",
       "      <td>Africa</td>\n",
       "    </tr>\n",
       "    <tr>\n",
       "      <th>46</th>\n",
       "      <td>Chad</td>\n",
       "      <td>14497000</td>\n",
       "      <td>Africa</td>\n",
       "    </tr>\n",
       "    <tr>\n",
       "      <th>47</th>\n",
       "      <td>Chile</td>\n",
       "      <td>18191900</td>\n",
       "      <td>Americas</td>\n",
       "    </tr>\n",
       "    <tr>\n",
       "      <th>48</th>\n",
       "      <td>China</td>\n",
       "      <td>1377422166</td>\n",
       "      <td>Asia</td>\n",
       "    </tr>\n",
       "    <tr>\n",
       "      <th>51</th>\n",
       "      <td>Colombia</td>\n",
       "      <td>48759958</td>\n",
       "      <td>Americas</td>\n",
       "    </tr>\n",
       "    <tr>\n",
       "      <th>54</th>\n",
       "      <td>Congo (Democratic Republic of the)</td>\n",
       "      <td>85026000</td>\n",
       "      <td>Africa</td>\n",
       "    </tr>\n",
       "    <tr>\n",
       "      <th>67</th>\n",
       "      <td>Egypt</td>\n",
       "      <td>91290000</td>\n",
       "      <td>Africa</td>\n",
       "    </tr>\n",
       "    <tr>\n",
       "      <th>72</th>\n",
       "      <td>Ethiopia</td>\n",
       "      <td>92206005</td>\n",
       "      <td>Africa</td>\n",
       "    </tr>\n",
       "    <tr>\n",
       "      <th>77</th>\n",
       "      <td>France</td>\n",
       "      <td>66710000</td>\n",
       "      <td>Europe</td>\n",
       "    </tr>\n",
       "    <tr>\n",
       "      <th>88</th>\n",
       "      <td>Greenland</td>\n",
       "      <td>55847</td>\n",
       "      <td>Americas</td>\n",
       "    </tr>\n",
       "    <tr>\n",
       "      <th>104</th>\n",
       "      <td>India</td>\n",
       "      <td>1295210000</td>\n",
       "      <td>Asia</td>\n",
       "    </tr>\n",
       "    <tr>\n",
       "      <th>105</th>\n",
       "      <td>Indonesia</td>\n",
       "      <td>258705000</td>\n",
       "      <td>Asia</td>\n",
       "    </tr>\n",
       "    <tr>\n",
       "      <th>107</th>\n",
       "      <td>Iran (Islamic Republic of)</td>\n",
       "      <td>79369900</td>\n",
       "      <td>Asia</td>\n",
       "    </tr>\n",
       "    <tr>\n",
       "      <th>117</th>\n",
       "      <td>Kazakhstan</td>\n",
       "      <td>17753200</td>\n",
       "      <td>Asia</td>\n",
       "    </tr>\n",
       "    <tr>\n",
       "      <th>118</th>\n",
       "      <td>Kenya</td>\n",
       "      <td>47251000</td>\n",
       "      <td>Africa</td>\n",
       "    </tr>\n",
       "    <tr>\n",
       "      <th>127</th>\n",
       "      <td>Libya</td>\n",
       "      <td>6385000</td>\n",
       "      <td>Africa</td>\n",
       "    </tr>\n",
       "    <tr>\n",
       "      <th>133</th>\n",
       "      <td>Madagascar</td>\n",
       "      <td>22434363</td>\n",
       "      <td>Africa</td>\n",
       "    </tr>\n",
       "    <tr>\n",
       "      <th>137</th>\n",
       "      <td>Mali</td>\n",
       "      <td>18135000</td>\n",
       "      <td>Africa</td>\n",
       "    </tr>\n",
       "    <tr>\n",
       "      <th>141</th>\n",
       "      <td>Mauritania</td>\n",
       "      <td>3718678</td>\n",
       "      <td>Africa</td>\n",
       "    </tr>\n",
       "    <tr>\n",
       "      <th>144</th>\n",
       "      <td>Mexico</td>\n",
       "      <td>122273473</td>\n",
       "      <td>Americas</td>\n",
       "    </tr>\n",
       "    <tr>\n",
       "      <th>148</th>\n",
       "      <td>Mongolia</td>\n",
       "      <td>3093100</td>\n",
       "      <td>Asia</td>\n",
       "    </tr>\n",
       "    <tr>\n",
       "      <th>152</th>\n",
       "      <td>Mozambique</td>\n",
       "      <td>26423700</td>\n",
       "      <td>Africa</td>\n",
       "    </tr>\n",
       "    <tr>\n",
       "      <th>153</th>\n",
       "      <td>Myanmar</td>\n",
       "      <td>51419420</td>\n",
       "      <td>Asia</td>\n",
       "    </tr>\n",
       "    <tr>\n",
       "      <th>154</th>\n",
       "      <td>Namibia</td>\n",
       "      <td>2324388</td>\n",
       "      <td>Africa</td>\n",
       "    </tr>\n",
       "    <tr>\n",
       "      <th>161</th>\n",
       "      <td>Niger</td>\n",
       "      <td>20715000</td>\n",
       "      <td>Africa</td>\n",
       "    </tr>\n",
       "    <tr>\n",
       "      <th>162</th>\n",
       "      <td>Nigeria</td>\n",
       "      <td>186988000</td>\n",
       "      <td>Africa</td>\n",
       "    </tr>\n",
       "    <tr>\n",
       "      <th>169</th>\n",
       "      <td>Pakistan</td>\n",
       "      <td>194125062</td>\n",
       "      <td>Asia</td>\n",
       "    </tr>\n",
       "    <tr>\n",
       "      <th>175</th>\n",
       "      <td>Peru</td>\n",
       "      <td>31488700</td>\n",
       "      <td>Americas</td>\n",
       "    </tr>\n",
       "    <tr>\n",
       "      <th>185</th>\n",
       "      <td>Russian Federation</td>\n",
       "      <td>146599183</td>\n",
       "      <td>Europe</td>\n",
       "    </tr>\n",
       "    <tr>\n",
       "      <th>197</th>\n",
       "      <td>Saudi Arabia</td>\n",
       "      <td>32248200</td>\n",
       "      <td>Asia</td>\n",
       "    </tr>\n",
       "    <tr>\n",
       "      <th>207</th>\n",
       "      <td>Somalia</td>\n",
       "      <td>11079000</td>\n",
       "      <td>Africa</td>\n",
       "    </tr>\n",
       "    <tr>\n",
       "      <th>208</th>\n",
       "      <td>South Africa</td>\n",
       "      <td>55653654</td>\n",
       "      <td>Africa</td>\n",
       "    </tr>\n",
       "    <tr>\n",
       "      <th>211</th>\n",
       "      <td>South Sudan</td>\n",
       "      <td>12131000</td>\n",
       "      <td>Africa</td>\n",
       "    </tr>\n",
       "    <tr>\n",
       "      <th>212</th>\n",
       "      <td>Spain</td>\n",
       "      <td>46438422</td>\n",
       "      <td>Europe</td>\n",
       "    </tr>\n",
       "    <tr>\n",
       "      <th>214</th>\n",
       "      <td>Sudan</td>\n",
       "      <td>39598700</td>\n",
       "      <td>Africa</td>\n",
       "    </tr>\n",
       "    <tr>\n",
       "      <th>223</th>\n",
       "      <td>Tanzania, United Republic of</td>\n",
       "      <td>55155000</td>\n",
       "      <td>Africa</td>\n",
       "    </tr>\n",
       "    <tr>\n",
       "      <th>224</th>\n",
       "      <td>Thailand</td>\n",
       "      <td>65327652</td>\n",
       "      <td>Asia</td>\n",
       "    </tr>\n",
       "    <tr>\n",
       "      <th>231</th>\n",
       "      <td>Turkey</td>\n",
       "      <td>78741053</td>\n",
       "      <td>Asia</td>\n",
       "    </tr>\n",
       "    <tr>\n",
       "      <th>236</th>\n",
       "      <td>Ukraine</td>\n",
       "      <td>42692393</td>\n",
       "      <td>Europe</td>\n",
       "    </tr>\n",
       "    <tr>\n",
       "      <th>239</th>\n",
       "      <td>United States of America</td>\n",
       "      <td>323947000</td>\n",
       "      <td>Americas</td>\n",
       "    </tr>\n",
       "    <tr>\n",
       "      <th>243</th>\n",
       "      <td>Venezuela (Bolivarian Republic of)</td>\n",
       "      <td>31028700</td>\n",
       "      <td>Americas</td>\n",
       "    </tr>\n",
       "    <tr>\n",
       "      <th>247</th>\n",
       "      <td>Yemen</td>\n",
       "      <td>27478000</td>\n",
       "      <td>Asia</td>\n",
       "    </tr>\n",
       "    <tr>\n",
       "      <th>248</th>\n",
       "      <td>Zambia</td>\n",
       "      <td>15933883</td>\n",
       "      <td>Africa</td>\n",
       "    </tr>\n",
       "  </tbody>\n",
       "</table>\n",
       "</div>"
      ],
      "text/plain": [
       "                                   name  population    region\n",
       "0                           Afghanistan    27657145      Asia\n",
       "3                               Algeria    40400000    Africa\n",
       "6                                Angola    25868000    Africa\n",
       "8                            Antarctica        1000     Polar\n",
       "10                            Argentina    43590400  Americas\n",
       "13                            Australia    24117360   Oceania\n",
       "26     Bolivia (Plurinational State of)    10985059  Americas\n",
       "29                             Botswana     2141206    Africa\n",
       "31                               Brazil   206135893  Americas\n",
       "42                               Canada    36155487  Americas\n",
       "45             Central African Republic     4998000    Africa\n",
       "46                                 Chad    14497000    Africa\n",
       "47                                Chile    18191900  Americas\n",
       "48                                China  1377422166      Asia\n",
       "51                             Colombia    48759958  Americas\n",
       "54   Congo (Democratic Republic of the)    85026000    Africa\n",
       "67                                Egypt    91290000    Africa\n",
       "72                             Ethiopia    92206005    Africa\n",
       "77                               France    66710000    Europe\n",
       "88                            Greenland       55847  Americas\n",
       "104                               India  1295210000      Asia\n",
       "105                           Indonesia   258705000      Asia\n",
       "107          Iran (Islamic Republic of)    79369900      Asia\n",
       "117                          Kazakhstan    17753200      Asia\n",
       "118                               Kenya    47251000    Africa\n",
       "127                               Libya     6385000    Africa\n",
       "133                          Madagascar    22434363    Africa\n",
       "137                                Mali    18135000    Africa\n",
       "141                          Mauritania     3718678    Africa\n",
       "144                              Mexico   122273473  Americas\n",
       "148                            Mongolia     3093100      Asia\n",
       "152                          Mozambique    26423700    Africa\n",
       "153                             Myanmar    51419420      Asia\n",
       "154                             Namibia     2324388    Africa\n",
       "161                               Niger    20715000    Africa\n",
       "162                             Nigeria   186988000    Africa\n",
       "169                            Pakistan   194125062      Asia\n",
       "175                                Peru    31488700  Americas\n",
       "185                  Russian Federation   146599183    Europe\n",
       "197                        Saudi Arabia    32248200      Asia\n",
       "207                             Somalia    11079000    Africa\n",
       "208                        South Africa    55653654    Africa\n",
       "211                         South Sudan    12131000    Africa\n",
       "212                               Spain    46438422    Europe\n",
       "214                               Sudan    39598700    Africa\n",
       "223        Tanzania, United Republic of    55155000    Africa\n",
       "224                            Thailand    65327652      Asia\n",
       "231                              Turkey    78741053      Asia\n",
       "236                             Ukraine    42692393    Europe\n",
       "239            United States of America   323947000  Americas\n",
       "243  Venezuela (Bolivarian Republic of)    31028700  Americas\n",
       "247                               Yemen    27478000      Asia\n",
       "248                              Zambia    15933883    Africa"
      ]
     },
     "execution_count": 5,
     "metadata": {},
     "output_type": "execute_result"
    }
   ],
   "source": [
    "df.loc[df['area'] > 500000,['name','population','region']] # changed 5Lakhs to reduce output"
   ]
  },
  {
   "cell_type": "markdown",
   "metadata": {},
   "source": [
    "#### Display 5 largest countries and 5 smallest countries in terms of area. Ignore countries without area."
   ]
  },
  {
   "cell_type": "code",
   "execution_count": 6,
   "metadata": {},
   "outputs": [
    {
     "data": {
      "text/html": [
       "<div>\n",
       "<style scoped>\n",
       "    .dataframe tbody tr th:only-of-type {\n",
       "        vertical-align: middle;\n",
       "    }\n",
       "\n",
       "    .dataframe tbody tr th {\n",
       "        vertical-align: top;\n",
       "    }\n",
       "\n",
       "    .dataframe thead th {\n",
       "        text-align: right;\n",
       "    }\n",
       "</style>\n",
       "<table border=\"1\" class=\"dataframe\">\n",
       "  <thead>\n",
       "    <tr style=\"text-align: right;\">\n",
       "      <th></th>\n",
       "      <th>name</th>\n",
       "      <th>area</th>\n",
       "    </tr>\n",
       "  </thead>\n",
       "  <tbody>\n",
       "    <tr>\n",
       "      <th>185</th>\n",
       "      <td>Russian Federation</td>\n",
       "      <td>17124442.0</td>\n",
       "    </tr>\n",
       "    <tr>\n",
       "      <th>8</th>\n",
       "      <td>Antarctica</td>\n",
       "      <td>14000000.0</td>\n",
       "    </tr>\n",
       "    <tr>\n",
       "      <th>42</th>\n",
       "      <td>Canada</td>\n",
       "      <td>9984670.0</td>\n",
       "    </tr>\n",
       "    <tr>\n",
       "      <th>48</th>\n",
       "      <td>China</td>\n",
       "      <td>9640011.0</td>\n",
       "    </tr>\n",
       "    <tr>\n",
       "      <th>239</th>\n",
       "      <td>United States of America</td>\n",
       "      <td>9629091.0</td>\n",
       "    </tr>\n",
       "  </tbody>\n",
       "</table>\n",
       "</div>"
      ],
      "text/plain": [
       "                         name        area\n",
       "185        Russian Federation  17124442.0\n",
       "8                  Antarctica  14000000.0\n",
       "42                     Canada   9984670.0\n",
       "48                      China   9640011.0\n",
       "239  United States of America   9629091.0"
      ]
     },
     "execution_count": 6,
     "metadata": {},
     "output_type": "execute_result"
    }
   ],
   "source": [
    "df[df['area'].notna()].nlargest(5,'area')[['name','area']]"
   ]
  },
  {
   "cell_type": "code",
   "execution_count": 7,
   "metadata": {
    "collapsed": true,
    "jupyter": {
     "outputs_hidden": true
    }
   },
   "outputs": [
    {
     "data": {
      "text/html": [
       "<div>\n",
       "<style scoped>\n",
       "    .dataframe tbody tr th:only-of-type {\n",
       "        vertical-align: middle;\n",
       "    }\n",
       "\n",
       "    .dataframe tbody tr th {\n",
       "        vertical-align: top;\n",
       "    }\n",
       "\n",
       "    .dataframe thead th {\n",
       "        text-align: right;\n",
       "    }\n",
       "</style>\n",
       "<table border=\"1\" class=\"dataframe\">\n",
       "  <thead>\n",
       "    <tr style=\"text-align: right;\">\n",
       "      <th></th>\n",
       "      <th>name</th>\n",
       "      <th>area</th>\n",
       "    </tr>\n",
       "  </thead>\n",
       "  <tbody>\n",
       "    <tr>\n",
       "      <th>99</th>\n",
       "      <td>Holy See</td>\n",
       "      <td>0.44</td>\n",
       "    </tr>\n",
       "    <tr>\n",
       "      <th>147</th>\n",
       "      <td>Monaco</td>\n",
       "      <td>2.02</td>\n",
       "    </tr>\n",
       "    <tr>\n",
       "      <th>86</th>\n",
       "      <td>Gibraltar</td>\n",
       "      <td>6.00</td>\n",
       "    </tr>\n",
       "    <tr>\n",
       "      <th>227</th>\n",
       "      <td>Tokelau</td>\n",
       "      <td>12.00</td>\n",
       "    </tr>\n",
       "    <tr>\n",
       "      <th>50</th>\n",
       "      <td>Cocos (Keeling) Islands</td>\n",
       "      <td>14.00</td>\n",
       "    </tr>\n",
       "  </tbody>\n",
       "</table>\n",
       "</div>"
      ],
      "text/plain": [
       "                        name   area\n",
       "99                  Holy See   0.44\n",
       "147                   Monaco   2.02\n",
       "86                 Gibraltar   6.00\n",
       "227                  Tokelau  12.00\n",
       "50   Cocos (Keeling) Islands  14.00"
      ]
     },
     "execution_count": 7,
     "metadata": {},
     "output_type": "execute_result"
    }
   ],
   "source": [
    "df[df['area'].notna()].nsmallest(5,'area')[['name','area']]"
   ]
  },
  {
   "cell_type": "markdown",
   "metadata": {},
   "source": [
    "#### Display highest area and the population of that country"
   ]
  },
  {
   "cell_type": "code",
   "execution_count": 7,
   "metadata": {},
   "outputs": [
    {
     "data": {
      "text/html": [
       "<div>\n",
       "<style scoped>\n",
       "    .dataframe tbody tr th:only-of-type {\n",
       "        vertical-align: middle;\n",
       "    }\n",
       "\n",
       "    .dataframe tbody tr th {\n",
       "        vertical-align: top;\n",
       "    }\n",
       "\n",
       "    .dataframe thead th {\n",
       "        text-align: right;\n",
       "    }\n",
       "</style>\n",
       "<table border=\"1\" class=\"dataframe\">\n",
       "  <thead>\n",
       "    <tr style=\"text-align: right;\">\n",
       "      <th></th>\n",
       "      <th>name</th>\n",
       "      <th>area</th>\n",
       "      <th>population</th>\n",
       "    </tr>\n",
       "  </thead>\n",
       "  <tbody>\n",
       "    <tr>\n",
       "      <th>185</th>\n",
       "      <td>Russian Federation</td>\n",
       "      <td>17124442.0</td>\n",
       "      <td>146599183</td>\n",
       "    </tr>\n",
       "  </tbody>\n",
       "</table>\n",
       "</div>"
      ],
      "text/plain": [
       "                   name        area  population\n",
       "185  Russian Federation  17124442.0   146599183"
      ]
     },
     "execution_count": 7,
     "metadata": {},
     "output_type": "execute_result"
    }
   ],
   "source": [
    "df.nlargest(1,'area')[['name','area','population']]"
   ]
  },
  {
   "cell_type": "markdown",
   "metadata": {},
   "source": [
    "#### Display countries where the name starts with 'I'"
   ]
  },
  {
   "cell_type": "code",
   "execution_count": 8,
   "metadata": {
    "collapsed": true,
    "jupyter": {
     "outputs_hidden": true
    }
   },
   "outputs": [
    {
     "data": {
      "text/html": [
       "<div>\n",
       "<style scoped>\n",
       "    .dataframe tbody tr th:only-of-type {\n",
       "        vertical-align: middle;\n",
       "    }\n",
       "\n",
       "    .dataframe tbody tr th {\n",
       "        vertical-align: top;\n",
       "    }\n",
       "\n",
       "    .dataframe thead th {\n",
       "        text-align: right;\n",
       "    }\n",
       "</style>\n",
       "<table border=\"1\" class=\"dataframe\">\n",
       "  <thead>\n",
       "    <tr style=\"text-align: right;\">\n",
       "      <th></th>\n",
       "      <th>name</th>\n",
       "      <th>topLevelDomain</th>\n",
       "      <th>alpha2Code</th>\n",
       "      <th>alpha3Code</th>\n",
       "      <th>callingCodes</th>\n",
       "      <th>capital</th>\n",
       "      <th>altSpellings</th>\n",
       "      <th>region</th>\n",
       "      <th>subregion</th>\n",
       "      <th>population</th>\n",
       "      <th>...</th>\n",
       "      <th>timezones</th>\n",
       "      <th>borders</th>\n",
       "      <th>nativeName</th>\n",
       "      <th>numericCode</th>\n",
       "      <th>currencies</th>\n",
       "      <th>languages</th>\n",
       "      <th>translations</th>\n",
       "      <th>flag</th>\n",
       "      <th>regionalBlocs</th>\n",
       "      <th>cioc</th>\n",
       "    </tr>\n",
       "  </thead>\n",
       "  <tbody>\n",
       "    <tr>\n",
       "      <th>103</th>\n",
       "      <td>Iceland</td>\n",
       "      <td>[.is]</td>\n",
       "      <td>IS</td>\n",
       "      <td>ISL</td>\n",
       "      <td>[354]</td>\n",
       "      <td>Reykjavík</td>\n",
       "      <td>[IS, Island, Republic of Iceland, Lýðveldið Ís...</td>\n",
       "      <td>Europe</td>\n",
       "      <td>Northern Europe</td>\n",
       "      <td>334300</td>\n",
       "      <td>...</td>\n",
       "      <td>[UTC]</td>\n",
       "      <td>[]</td>\n",
       "      <td>Ísland</td>\n",
       "      <td>352.0</td>\n",
       "      <td>[{'code': 'ISK', 'name': 'Icelandic króna', 's...</td>\n",
       "      <td>[{'iso639_1': 'is', 'iso639_2': 'isl', 'name':...</td>\n",
       "      <td>{'de': 'Island', 'es': 'Islandia', 'fr': 'Isla...</td>\n",
       "      <td>https://restcountries.eu/data/isl.svg</td>\n",
       "      <td>[{'acronym': 'EFTA', 'name': 'European Free Tr...</td>\n",
       "      <td>ISL</td>\n",
       "    </tr>\n",
       "    <tr>\n",
       "      <th>104</th>\n",
       "      <td>India</td>\n",
       "      <td>[.in]</td>\n",
       "      <td>IN</td>\n",
       "      <td>IND</td>\n",
       "      <td>[91]</td>\n",
       "      <td>New Delhi</td>\n",
       "      <td>[IN, Bhārat, Republic of India, Bharat Ganrajya]</td>\n",
       "      <td>Asia</td>\n",
       "      <td>Southern Asia</td>\n",
       "      <td>1295210000</td>\n",
       "      <td>...</td>\n",
       "      <td>[UTC+05:30]</td>\n",
       "      <td>[AFG, BGD, BTN, MMR, CHN, NPL, PAK, LKA]</td>\n",
       "      <td>भारत</td>\n",
       "      <td>356.0</td>\n",
       "      <td>[{'code': 'INR', 'name': 'Indian rupee', 'symb...</td>\n",
       "      <td>[{'iso639_1': 'hi', 'iso639_2': 'hin', 'name':...</td>\n",
       "      <td>{'de': 'Indien', 'es': 'India', 'fr': 'Inde', ...</td>\n",
       "      <td>https://restcountries.eu/data/ind.svg</td>\n",
       "      <td>[{'acronym': 'SAARC', 'name': 'South Asian Ass...</td>\n",
       "      <td>IND</td>\n",
       "    </tr>\n",
       "    <tr>\n",
       "      <th>105</th>\n",
       "      <td>Indonesia</td>\n",
       "      <td>[.id]</td>\n",
       "      <td>ID</td>\n",
       "      <td>IDN</td>\n",
       "      <td>[62]</td>\n",
       "      <td>Jakarta</td>\n",
       "      <td>[ID, Republic of Indonesia, Republik Indonesia]</td>\n",
       "      <td>Asia</td>\n",
       "      <td>South-Eastern Asia</td>\n",
       "      <td>258705000</td>\n",
       "      <td>...</td>\n",
       "      <td>[UTC+07:00, UTC+08:00, UTC+09:00]</td>\n",
       "      <td>[TLS, MYS, PNG]</td>\n",
       "      <td>Indonesia</td>\n",
       "      <td>360.0</td>\n",
       "      <td>[{'code': 'IDR', 'name': 'Indonesian rupiah', ...</td>\n",
       "      <td>[{'iso639_1': 'id', 'iso639_2': 'ind', 'name':...</td>\n",
       "      <td>{'de': 'Indonesien', 'es': 'Indonesia', 'fr': ...</td>\n",
       "      <td>https://restcountries.eu/data/idn.svg</td>\n",
       "      <td>[{'acronym': 'ASEAN', 'name': 'Association of ...</td>\n",
       "      <td>INA</td>\n",
       "    </tr>\n",
       "    <tr>\n",
       "      <th>107</th>\n",
       "      <td>Iran (Islamic Republic of)</td>\n",
       "      <td>[.ir]</td>\n",
       "      <td>IR</td>\n",
       "      <td>IRN</td>\n",
       "      <td>[98]</td>\n",
       "      <td>Tehran</td>\n",
       "      <td>[IR, Islamic Republic of Iran, Jomhuri-ye Eslā...</td>\n",
       "      <td>Asia</td>\n",
       "      <td>Southern Asia</td>\n",
       "      <td>79369900</td>\n",
       "      <td>...</td>\n",
       "      <td>[UTC+03:30]</td>\n",
       "      <td>[AFG, ARM, AZE, IRQ, PAK, TUR, TKM]</td>\n",
       "      <td>ایران</td>\n",
       "      <td>364.0</td>\n",
       "      <td>[{'code': 'IRR', 'name': 'Iranian rial', 'symb...</td>\n",
       "      <td>[{'iso639_1': 'fa', 'iso639_2': 'fas', 'name':...</td>\n",
       "      <td>{'de': 'Iran', 'es': 'Iran', 'fr': 'Iran', 'ja...</td>\n",
       "      <td>https://restcountries.eu/data/irn.svg</td>\n",
       "      <td>[]</td>\n",
       "      <td>IRI</td>\n",
       "    </tr>\n",
       "    <tr>\n",
       "      <th>108</th>\n",
       "      <td>Iraq</td>\n",
       "      <td>[.iq]</td>\n",
       "      <td>IQ</td>\n",
       "      <td>IRQ</td>\n",
       "      <td>[964]</td>\n",
       "      <td>Baghdad</td>\n",
       "      <td>[IQ, Republic of Iraq, Jumhūriyyat al-‘Irāq]</td>\n",
       "      <td>Asia</td>\n",
       "      <td>Western Asia</td>\n",
       "      <td>37883543</td>\n",
       "      <td>...</td>\n",
       "      <td>[UTC+03:00]</td>\n",
       "      <td>[IRN, JOR, KWT, SAU, SYR, TUR]</td>\n",
       "      <td>العراق</td>\n",
       "      <td>368.0</td>\n",
       "      <td>[{'code': 'IQD', 'name': 'Iraqi dinar', 'symbo...</td>\n",
       "      <td>[{'iso639_1': 'ar', 'iso639_2': 'ara', 'name':...</td>\n",
       "      <td>{'de': 'Irak', 'es': 'Irak', 'fr': 'Irak', 'ja...</td>\n",
       "      <td>https://restcountries.eu/data/irq.svg</td>\n",
       "      <td>[{'acronym': 'AL', 'name': 'Arab League', 'oth...</td>\n",
       "      <td>IRQ</td>\n",
       "    </tr>\n",
       "    <tr>\n",
       "      <th>109</th>\n",
       "      <td>Ireland</td>\n",
       "      <td>[.ie]</td>\n",
       "      <td>IE</td>\n",
       "      <td>IRL</td>\n",
       "      <td>[353]</td>\n",
       "      <td>Dublin</td>\n",
       "      <td>[IE, Éire, Republic of Ireland, Poblacht na hÉ...</td>\n",
       "      <td>Europe</td>\n",
       "      <td>Northern Europe</td>\n",
       "      <td>6378000</td>\n",
       "      <td>...</td>\n",
       "      <td>[UTC]</td>\n",
       "      <td>[GBR]</td>\n",
       "      <td>Éire</td>\n",
       "      <td>372.0</td>\n",
       "      <td>[{'code': 'EUR', 'name': 'Euro', 'symbol': '€'}]</td>\n",
       "      <td>[{'iso639_1': 'ga', 'iso639_2': 'gle', 'name':...</td>\n",
       "      <td>{'de': 'Irland', 'es': 'Irlanda', 'fr': 'Irlan...</td>\n",
       "      <td>https://restcountries.eu/data/irl.svg</td>\n",
       "      <td>[{'acronym': 'EU', 'name': 'European Union', '...</td>\n",
       "      <td>IRL</td>\n",
       "    </tr>\n",
       "    <tr>\n",
       "      <th>110</th>\n",
       "      <td>Isle of Man</td>\n",
       "      <td>[.im]</td>\n",
       "      <td>IM</td>\n",
       "      <td>IMN</td>\n",
       "      <td>[44]</td>\n",
       "      <td>Douglas</td>\n",
       "      <td>[IM, Ellan Vannin, Mann, Mannin]</td>\n",
       "      <td>Europe</td>\n",
       "      <td>Northern Europe</td>\n",
       "      <td>84497</td>\n",
       "      <td>...</td>\n",
       "      <td>[UTC+00:00]</td>\n",
       "      <td>[]</td>\n",
       "      <td>Isle of Man</td>\n",
       "      <td>833.0</td>\n",
       "      <td>[{'code': 'GBP', 'name': 'British pound', 'sym...</td>\n",
       "      <td>[{'iso639_1': 'en', 'iso639_2': 'eng', 'name':...</td>\n",
       "      <td>{'de': 'Insel Man', 'es': 'Isla de Man', 'fr':...</td>\n",
       "      <td>https://restcountries.eu/data/imn.svg</td>\n",
       "      <td>[{'acronym': 'EU', 'name': 'European Union', '...</td>\n",
       "      <td></td>\n",
       "    </tr>\n",
       "    <tr>\n",
       "      <th>111</th>\n",
       "      <td>Israel</td>\n",
       "      <td>[.il]</td>\n",
       "      <td>IL</td>\n",
       "      <td>ISR</td>\n",
       "      <td>[972]</td>\n",
       "      <td>Jerusalem</td>\n",
       "      <td>[IL, State of Israel, Medīnat Yisrā'el]</td>\n",
       "      <td>Asia</td>\n",
       "      <td>Western Asia</td>\n",
       "      <td>8527400</td>\n",
       "      <td>...</td>\n",
       "      <td>[UTC+02:00]</td>\n",
       "      <td>[EGY, JOR, LBN, SYR]</td>\n",
       "      <td>יִשְׂרָאֵל</td>\n",
       "      <td>376.0</td>\n",
       "      <td>[{'code': 'ILS', 'name': 'Israeli new shekel',...</td>\n",
       "      <td>[{'iso639_1': 'he', 'iso639_2': 'heb', 'name':...</td>\n",
       "      <td>{'de': 'Israel', 'es': 'Israel', 'fr': 'Israël...</td>\n",
       "      <td>https://restcountries.eu/data/isr.svg</td>\n",
       "      <td>[]</td>\n",
       "      <td>ISR</td>\n",
       "    </tr>\n",
       "    <tr>\n",
       "      <th>112</th>\n",
       "      <td>Italy</td>\n",
       "      <td>[.it]</td>\n",
       "      <td>IT</td>\n",
       "      <td>ITA</td>\n",
       "      <td>[39]</td>\n",
       "      <td>Rome</td>\n",
       "      <td>[IT, Italian Republic, Repubblica italiana]</td>\n",
       "      <td>Europe</td>\n",
       "      <td>Southern Europe</td>\n",
       "      <td>60665551</td>\n",
       "      <td>...</td>\n",
       "      <td>[UTC+01:00]</td>\n",
       "      <td>[AUT, FRA, SMR, SVN, CHE, VAT]</td>\n",
       "      <td>Italia</td>\n",
       "      <td>380.0</td>\n",
       "      <td>[{'code': 'EUR', 'name': 'Euro', 'symbol': '€'}]</td>\n",
       "      <td>[{'iso639_1': 'it', 'iso639_2': 'ita', 'name':...</td>\n",
       "      <td>{'de': 'Italien', 'es': 'Italia', 'fr': 'Itali...</td>\n",
       "      <td>https://restcountries.eu/data/ita.svg</td>\n",
       "      <td>[{'acronym': 'EU', 'name': 'European Union', '...</td>\n",
       "      <td>ITA</td>\n",
       "    </tr>\n",
       "  </tbody>\n",
       "</table>\n",
       "<p>9 rows × 24 columns</p>\n",
       "</div>"
      ],
      "text/plain": [
       "                           name topLevelDomain alpha2Code alpha3Code  \\\n",
       "103                     Iceland          [.is]         IS        ISL   \n",
       "104                       India          [.in]         IN        IND   \n",
       "105                   Indonesia          [.id]         ID        IDN   \n",
       "107  Iran (Islamic Republic of)          [.ir]         IR        IRN   \n",
       "108                        Iraq          [.iq]         IQ        IRQ   \n",
       "109                     Ireland          [.ie]         IE        IRL   \n",
       "110                 Isle of Man          [.im]         IM        IMN   \n",
       "111                      Israel          [.il]         IL        ISR   \n",
       "112                       Italy          [.it]         IT        ITA   \n",
       "\n",
       "    callingCodes    capital  \\\n",
       "103        [354]  Reykjavík   \n",
       "104         [91]  New Delhi   \n",
       "105         [62]    Jakarta   \n",
       "107         [98]     Tehran   \n",
       "108        [964]    Baghdad   \n",
       "109        [353]     Dublin   \n",
       "110         [44]    Douglas   \n",
       "111        [972]  Jerusalem   \n",
       "112         [39]       Rome   \n",
       "\n",
       "                                          altSpellings  region  \\\n",
       "103  [IS, Island, Republic of Iceland, Lýðveldið Ís...  Europe   \n",
       "104   [IN, Bhārat, Republic of India, Bharat Ganrajya]    Asia   \n",
       "105    [ID, Republic of Indonesia, Republik Indonesia]    Asia   \n",
       "107  [IR, Islamic Republic of Iran, Jomhuri-ye Eslā...    Asia   \n",
       "108       [IQ, Republic of Iraq, Jumhūriyyat al-‘Irāq]    Asia   \n",
       "109  [IE, Éire, Republic of Ireland, Poblacht na hÉ...  Europe   \n",
       "110                   [IM, Ellan Vannin, Mann, Mannin]  Europe   \n",
       "111            [IL, State of Israel, Medīnat Yisrā'el]    Asia   \n",
       "112        [IT, Italian Republic, Repubblica italiana]  Europe   \n",
       "\n",
       "              subregion  population  ...                          timezones  \\\n",
       "103     Northern Europe      334300  ...                              [UTC]   \n",
       "104       Southern Asia  1295210000  ...                        [UTC+05:30]   \n",
       "105  South-Eastern Asia   258705000  ...  [UTC+07:00, UTC+08:00, UTC+09:00]   \n",
       "107       Southern Asia    79369900  ...                        [UTC+03:30]   \n",
       "108        Western Asia    37883543  ...                        [UTC+03:00]   \n",
       "109     Northern Europe     6378000  ...                              [UTC]   \n",
       "110     Northern Europe       84497  ...                        [UTC+00:00]   \n",
       "111        Western Asia     8527400  ...                        [UTC+02:00]   \n",
       "112     Southern Europe    60665551  ...                        [UTC+01:00]   \n",
       "\n",
       "                                      borders   nativeName  numericCode  \\\n",
       "103                                        []       Ísland        352.0   \n",
       "104  [AFG, BGD, BTN, MMR, CHN, NPL, PAK, LKA]         भारत        356.0   \n",
       "105                           [TLS, MYS, PNG]    Indonesia        360.0   \n",
       "107       [AFG, ARM, AZE, IRQ, PAK, TUR, TKM]        ایران        364.0   \n",
       "108            [IRN, JOR, KWT, SAU, SYR, TUR]       العراق        368.0   \n",
       "109                                     [GBR]         Éire        372.0   \n",
       "110                                        []  Isle of Man        833.0   \n",
       "111                      [EGY, JOR, LBN, SYR]   יִשְׂרָאֵל        376.0   \n",
       "112            [AUT, FRA, SMR, SVN, CHE, VAT]       Italia        380.0   \n",
       "\n",
       "                                            currencies  \\\n",
       "103  [{'code': 'ISK', 'name': 'Icelandic króna', 's...   \n",
       "104  [{'code': 'INR', 'name': 'Indian rupee', 'symb...   \n",
       "105  [{'code': 'IDR', 'name': 'Indonesian rupiah', ...   \n",
       "107  [{'code': 'IRR', 'name': 'Iranian rial', 'symb...   \n",
       "108  [{'code': 'IQD', 'name': 'Iraqi dinar', 'symbo...   \n",
       "109   [{'code': 'EUR', 'name': 'Euro', 'symbol': '€'}]   \n",
       "110  [{'code': 'GBP', 'name': 'British pound', 'sym...   \n",
       "111  [{'code': 'ILS', 'name': 'Israeli new shekel',...   \n",
       "112   [{'code': 'EUR', 'name': 'Euro', 'symbol': '€'}]   \n",
       "\n",
       "                                             languages  \\\n",
       "103  [{'iso639_1': 'is', 'iso639_2': 'isl', 'name':...   \n",
       "104  [{'iso639_1': 'hi', 'iso639_2': 'hin', 'name':...   \n",
       "105  [{'iso639_1': 'id', 'iso639_2': 'ind', 'name':...   \n",
       "107  [{'iso639_1': 'fa', 'iso639_2': 'fas', 'name':...   \n",
       "108  [{'iso639_1': 'ar', 'iso639_2': 'ara', 'name':...   \n",
       "109  [{'iso639_1': 'ga', 'iso639_2': 'gle', 'name':...   \n",
       "110  [{'iso639_1': 'en', 'iso639_2': 'eng', 'name':...   \n",
       "111  [{'iso639_1': 'he', 'iso639_2': 'heb', 'name':...   \n",
       "112  [{'iso639_1': 'it', 'iso639_2': 'ita', 'name':...   \n",
       "\n",
       "                                          translations  \\\n",
       "103  {'de': 'Island', 'es': 'Islandia', 'fr': 'Isla...   \n",
       "104  {'de': 'Indien', 'es': 'India', 'fr': 'Inde', ...   \n",
       "105  {'de': 'Indonesien', 'es': 'Indonesia', 'fr': ...   \n",
       "107  {'de': 'Iran', 'es': 'Iran', 'fr': 'Iran', 'ja...   \n",
       "108  {'de': 'Irak', 'es': 'Irak', 'fr': 'Irak', 'ja...   \n",
       "109  {'de': 'Irland', 'es': 'Irlanda', 'fr': 'Irlan...   \n",
       "110  {'de': 'Insel Man', 'es': 'Isla de Man', 'fr':...   \n",
       "111  {'de': 'Israel', 'es': 'Israel', 'fr': 'Israël...   \n",
       "112  {'de': 'Italien', 'es': 'Italia', 'fr': 'Itali...   \n",
       "\n",
       "                                      flag  \\\n",
       "103  https://restcountries.eu/data/isl.svg   \n",
       "104  https://restcountries.eu/data/ind.svg   \n",
       "105  https://restcountries.eu/data/idn.svg   \n",
       "107  https://restcountries.eu/data/irn.svg   \n",
       "108  https://restcountries.eu/data/irq.svg   \n",
       "109  https://restcountries.eu/data/irl.svg   \n",
       "110  https://restcountries.eu/data/imn.svg   \n",
       "111  https://restcountries.eu/data/isr.svg   \n",
       "112  https://restcountries.eu/data/ita.svg   \n",
       "\n",
       "                                         regionalBlocs cioc  \n",
       "103  [{'acronym': 'EFTA', 'name': 'European Free Tr...  ISL  \n",
       "104  [{'acronym': 'SAARC', 'name': 'South Asian Ass...  IND  \n",
       "105  [{'acronym': 'ASEAN', 'name': 'Association of ...  INA  \n",
       "107                                                 []  IRI  \n",
       "108  [{'acronym': 'AL', 'name': 'Arab League', 'oth...  IRQ  \n",
       "109  [{'acronym': 'EU', 'name': 'European Union', '...  IRL  \n",
       "110  [{'acronym': 'EU', 'name': 'European Union', '...       \n",
       "111                                                 []  ISR  \n",
       "112  [{'acronym': 'EU', 'name': 'European Union', '...  ITA  \n",
       "\n",
       "[9 rows x 24 columns]"
      ]
     },
     "execution_count": 8,
     "metadata": {},
     "output_type": "execute_result"
    }
   ],
   "source": [
    "df[df['name'].str.startswith('I')]"
   ]
  },
  {
   "cell_type": "markdown",
   "metadata": {},
   "source": [
    "#### Connect to sqlite database - Use query (read_sql_query) or table (read_sql_table) and create a dataframe"
   ]
  },
  {
   "cell_type": "code",
   "execution_count": null,
   "metadata": {},
   "outputs": [],
   "source": []
  },
  {
   "cell_type": "markdown",
   "metadata": {},
   "source": [
    "### 22-APR-2020"
   ]
  },
  {
   "cell_type": "markdown",
   "metadata": {},
   "source": [
    "#### Display country name and names of countries with which the country shares borders (codes)."
   ]
  },
  {
   "cell_type": "code",
   "execution_count": 49,
   "metadata": {
    "collapsed": true,
    "jupyter": {
     "outputs_hidden": true
    }
   },
   "outputs": [
    {
     "data": {
      "text/html": [
       "<div>\n",
       "<style scoped>\n",
       "    .dataframe tbody tr th:only-of-type {\n",
       "        vertical-align: middle;\n",
       "    }\n",
       "\n",
       "    .dataframe tbody tr th {\n",
       "        vertical-align: top;\n",
       "    }\n",
       "\n",
       "    .dataframe thead th {\n",
       "        text-align: right;\n",
       "    }\n",
       "</style>\n",
       "<table border=\"1\" class=\"dataframe\">\n",
       "  <thead>\n",
       "    <tr style=\"text-align: right;\">\n",
       "      <th></th>\n",
       "      <th>name</th>\n",
       "      <th>borders</th>\n",
       "    </tr>\n",
       "  </thead>\n",
       "  <tbody>\n",
       "    <tr>\n",
       "      <th>0</th>\n",
       "      <td>Afghanistan</td>\n",
       "      <td>[IRN, PAK, TKM, UZB, TJK, CHN]</td>\n",
       "    </tr>\n",
       "    <tr>\n",
       "      <th>1</th>\n",
       "      <td>Åland Islands</td>\n",
       "      <td>[]</td>\n",
       "    </tr>\n",
       "    <tr>\n",
       "      <th>2</th>\n",
       "      <td>Albania</td>\n",
       "      <td>[MNE, GRC, MKD, KOS]</td>\n",
       "    </tr>\n",
       "    <tr>\n",
       "      <th>3</th>\n",
       "      <td>Algeria</td>\n",
       "      <td>[TUN, LBY, NER, ESH, MRT, MLI, MAR]</td>\n",
       "    </tr>\n",
       "    <tr>\n",
       "      <th>4</th>\n",
       "      <td>American Samoa</td>\n",
       "      <td>[]</td>\n",
       "    </tr>\n",
       "    <tr>\n",
       "      <th>5</th>\n",
       "      <td>Andorra</td>\n",
       "      <td>[FRA, ESP]</td>\n",
       "    </tr>\n",
       "    <tr>\n",
       "      <th>6</th>\n",
       "      <td>Angola</td>\n",
       "      <td>[COG, COD, ZMB, NAM]</td>\n",
       "    </tr>\n",
       "    <tr>\n",
       "      <th>7</th>\n",
       "      <td>Anguilla</td>\n",
       "      <td>[]</td>\n",
       "    </tr>\n",
       "    <tr>\n",
       "      <th>8</th>\n",
       "      <td>Antarctica</td>\n",
       "      <td>[]</td>\n",
       "    </tr>\n",
       "    <tr>\n",
       "      <th>9</th>\n",
       "      <td>Antigua and Barbuda</td>\n",
       "      <td>[]</td>\n",
       "    </tr>\n",
       "    <tr>\n",
       "      <th>10</th>\n",
       "      <td>Argentina</td>\n",
       "      <td>[BOL, BRA, CHL, PRY, URY]</td>\n",
       "    </tr>\n",
       "    <tr>\n",
       "      <th>11</th>\n",
       "      <td>Armenia</td>\n",
       "      <td>[AZE, GEO, IRN, TUR]</td>\n",
       "    </tr>\n",
       "    <tr>\n",
       "      <th>12</th>\n",
       "      <td>Aruba</td>\n",
       "      <td>[]</td>\n",
       "    </tr>\n",
       "    <tr>\n",
       "      <th>13</th>\n",
       "      <td>Australia</td>\n",
       "      <td>[]</td>\n",
       "    </tr>\n",
       "    <tr>\n",
       "      <th>14</th>\n",
       "      <td>Austria</td>\n",
       "      <td>[CZE, DEU, HUN, ITA, LIE, SVK, SVN, CHE]</td>\n",
       "    </tr>\n",
       "    <tr>\n",
       "      <th>15</th>\n",
       "      <td>Azerbaijan</td>\n",
       "      <td>[ARM, GEO, IRN, RUS, TUR]</td>\n",
       "    </tr>\n",
       "    <tr>\n",
       "      <th>16</th>\n",
       "      <td>Bahamas</td>\n",
       "      <td>[]</td>\n",
       "    </tr>\n",
       "    <tr>\n",
       "      <th>17</th>\n",
       "      <td>Bahrain</td>\n",
       "      <td>[]</td>\n",
       "    </tr>\n",
       "    <tr>\n",
       "      <th>18</th>\n",
       "      <td>Bangladesh</td>\n",
       "      <td>[MMR, IND]</td>\n",
       "    </tr>\n",
       "    <tr>\n",
       "      <th>19</th>\n",
       "      <td>Barbados</td>\n",
       "      <td>[]</td>\n",
       "    </tr>\n",
       "    <tr>\n",
       "      <th>20</th>\n",
       "      <td>Belarus</td>\n",
       "      <td>[LVA, LTU, POL, RUS, UKR]</td>\n",
       "    </tr>\n",
       "    <tr>\n",
       "      <th>21</th>\n",
       "      <td>Belgium</td>\n",
       "      <td>[FRA, DEU, LUX, NLD]</td>\n",
       "    </tr>\n",
       "    <tr>\n",
       "      <th>22</th>\n",
       "      <td>Belize</td>\n",
       "      <td>[GTM, MEX]</td>\n",
       "    </tr>\n",
       "    <tr>\n",
       "      <th>23</th>\n",
       "      <td>Benin</td>\n",
       "      <td>[BFA, NER, NGA, TGO]</td>\n",
       "    </tr>\n",
       "    <tr>\n",
       "      <th>24</th>\n",
       "      <td>Bermuda</td>\n",
       "      <td>[]</td>\n",
       "    </tr>\n",
       "    <tr>\n",
       "      <th>25</th>\n",
       "      <td>Bhutan</td>\n",
       "      <td>[CHN, IND]</td>\n",
       "    </tr>\n",
       "    <tr>\n",
       "      <th>26</th>\n",
       "      <td>Bolivia (Plurinational State of)</td>\n",
       "      <td>[ARG, BRA, CHL, PRY, PER]</td>\n",
       "    </tr>\n",
       "    <tr>\n",
       "      <th>27</th>\n",
       "      <td>Bonaire, Sint Eustatius and Saba</td>\n",
       "      <td>[]</td>\n",
       "    </tr>\n",
       "    <tr>\n",
       "      <th>28</th>\n",
       "      <td>Bosnia and Herzegovina</td>\n",
       "      <td>[HRV, MNE, SRB]</td>\n",
       "    </tr>\n",
       "    <tr>\n",
       "      <th>29</th>\n",
       "      <td>Botswana</td>\n",
       "      <td>[NAM, ZAF, ZMB, ZWE]</td>\n",
       "    </tr>\n",
       "    <tr>\n",
       "      <th>...</th>\n",
       "      <td>...</td>\n",
       "      <td>...</td>\n",
       "    </tr>\n",
       "    <tr>\n",
       "      <th>220</th>\n",
       "      <td>Syrian Arab Republic</td>\n",
       "      <td>[IRQ, ISR, JOR, LBN, TUR]</td>\n",
       "    </tr>\n",
       "    <tr>\n",
       "      <th>221</th>\n",
       "      <td>Taiwan</td>\n",
       "      <td>[]</td>\n",
       "    </tr>\n",
       "    <tr>\n",
       "      <th>222</th>\n",
       "      <td>Tajikistan</td>\n",
       "      <td>[AFG, CHN, KGZ, UZB]</td>\n",
       "    </tr>\n",
       "    <tr>\n",
       "      <th>223</th>\n",
       "      <td>Tanzania, United Republic of</td>\n",
       "      <td>[BDI, COD, KEN, MWI, MOZ, RWA, UGA, ZMB]</td>\n",
       "    </tr>\n",
       "    <tr>\n",
       "      <th>224</th>\n",
       "      <td>Thailand</td>\n",
       "      <td>[MMR, KHM, LAO, MYS]</td>\n",
       "    </tr>\n",
       "    <tr>\n",
       "      <th>225</th>\n",
       "      <td>Timor-Leste</td>\n",
       "      <td>[IDN]</td>\n",
       "    </tr>\n",
       "    <tr>\n",
       "      <th>226</th>\n",
       "      <td>Togo</td>\n",
       "      <td>[BEN, BFA, GHA]</td>\n",
       "    </tr>\n",
       "    <tr>\n",
       "      <th>227</th>\n",
       "      <td>Tokelau</td>\n",
       "      <td>[]</td>\n",
       "    </tr>\n",
       "    <tr>\n",
       "      <th>228</th>\n",
       "      <td>Tonga</td>\n",
       "      <td>[]</td>\n",
       "    </tr>\n",
       "    <tr>\n",
       "      <th>229</th>\n",
       "      <td>Trinidad and Tobago</td>\n",
       "      <td>[]</td>\n",
       "    </tr>\n",
       "    <tr>\n",
       "      <th>230</th>\n",
       "      <td>Tunisia</td>\n",
       "      <td>[DZA, LBY]</td>\n",
       "    </tr>\n",
       "    <tr>\n",
       "      <th>231</th>\n",
       "      <td>Turkey</td>\n",
       "      <td>[ARM, AZE, BGR, GEO, GRC, IRN, IRQ, SYR]</td>\n",
       "    </tr>\n",
       "    <tr>\n",
       "      <th>232</th>\n",
       "      <td>Turkmenistan</td>\n",
       "      <td>[AFG, IRN, KAZ, UZB]</td>\n",
       "    </tr>\n",
       "    <tr>\n",
       "      <th>233</th>\n",
       "      <td>Turks and Caicos Islands</td>\n",
       "      <td>[]</td>\n",
       "    </tr>\n",
       "    <tr>\n",
       "      <th>234</th>\n",
       "      <td>Tuvalu</td>\n",
       "      <td>[]</td>\n",
       "    </tr>\n",
       "    <tr>\n",
       "      <th>235</th>\n",
       "      <td>Uganda</td>\n",
       "      <td>[COD, KEN, RWA, SSD, TZA]</td>\n",
       "    </tr>\n",
       "    <tr>\n",
       "      <th>236</th>\n",
       "      <td>Ukraine</td>\n",
       "      <td>[BLR, HUN, MDA, POL, ROU, RUS, SVK]</td>\n",
       "    </tr>\n",
       "    <tr>\n",
       "      <th>237</th>\n",
       "      <td>United Arab Emirates</td>\n",
       "      <td>[OMN, SAU]</td>\n",
       "    </tr>\n",
       "    <tr>\n",
       "      <th>238</th>\n",
       "      <td>United Kingdom of Great Britain and Northern I...</td>\n",
       "      <td>[IRL]</td>\n",
       "    </tr>\n",
       "    <tr>\n",
       "      <th>239</th>\n",
       "      <td>United States of America</td>\n",
       "      <td>[CAN, MEX]</td>\n",
       "    </tr>\n",
       "    <tr>\n",
       "      <th>240</th>\n",
       "      <td>Uruguay</td>\n",
       "      <td>[ARG, BRA]</td>\n",
       "    </tr>\n",
       "    <tr>\n",
       "      <th>241</th>\n",
       "      <td>Uzbekistan</td>\n",
       "      <td>[AFG, KAZ, KGZ, TJK, TKM]</td>\n",
       "    </tr>\n",
       "    <tr>\n",
       "      <th>242</th>\n",
       "      <td>Vanuatu</td>\n",
       "      <td>[]</td>\n",
       "    </tr>\n",
       "    <tr>\n",
       "      <th>243</th>\n",
       "      <td>Venezuela (Bolivarian Republic of)</td>\n",
       "      <td>[BRA, COL, GUY]</td>\n",
       "    </tr>\n",
       "    <tr>\n",
       "      <th>244</th>\n",
       "      <td>Viet Nam</td>\n",
       "      <td>[KHM, CHN, LAO]</td>\n",
       "    </tr>\n",
       "    <tr>\n",
       "      <th>245</th>\n",
       "      <td>Wallis and Futuna</td>\n",
       "      <td>[]</td>\n",
       "    </tr>\n",
       "    <tr>\n",
       "      <th>246</th>\n",
       "      <td>Western Sahara</td>\n",
       "      <td>[DZA, MRT, MAR]</td>\n",
       "    </tr>\n",
       "    <tr>\n",
       "      <th>247</th>\n",
       "      <td>Yemen</td>\n",
       "      <td>[OMN, SAU]</td>\n",
       "    </tr>\n",
       "    <tr>\n",
       "      <th>248</th>\n",
       "      <td>Zambia</td>\n",
       "      <td>[AGO, BWA, COD, MWI, MOZ, NAM, TZA, ZWE]</td>\n",
       "    </tr>\n",
       "    <tr>\n",
       "      <th>249</th>\n",
       "      <td>Zimbabwe</td>\n",
       "      <td>[BWA, MOZ, ZAF, ZMB]</td>\n",
       "    </tr>\n",
       "  </tbody>\n",
       "</table>\n",
       "<p>250 rows × 2 columns</p>\n",
       "</div>"
      ],
      "text/plain": [
       "                                                  name  \\\n",
       "0                                          Afghanistan   \n",
       "1                                        Åland Islands   \n",
       "2                                              Albania   \n",
       "3                                              Algeria   \n",
       "4                                       American Samoa   \n",
       "5                                              Andorra   \n",
       "6                                               Angola   \n",
       "7                                             Anguilla   \n",
       "8                                           Antarctica   \n",
       "9                                  Antigua and Barbuda   \n",
       "10                                           Argentina   \n",
       "11                                             Armenia   \n",
       "12                                               Aruba   \n",
       "13                                           Australia   \n",
       "14                                             Austria   \n",
       "15                                          Azerbaijan   \n",
       "16                                             Bahamas   \n",
       "17                                             Bahrain   \n",
       "18                                          Bangladesh   \n",
       "19                                            Barbados   \n",
       "20                                             Belarus   \n",
       "21                                             Belgium   \n",
       "22                                              Belize   \n",
       "23                                               Benin   \n",
       "24                                             Bermuda   \n",
       "25                                              Bhutan   \n",
       "26                    Bolivia (Plurinational State of)   \n",
       "27                    Bonaire, Sint Eustatius and Saba   \n",
       "28                              Bosnia and Herzegovina   \n",
       "29                                            Botswana   \n",
       "..                                                 ...   \n",
       "220                               Syrian Arab Republic   \n",
       "221                                             Taiwan   \n",
       "222                                         Tajikistan   \n",
       "223                       Tanzania, United Republic of   \n",
       "224                                           Thailand   \n",
       "225                                        Timor-Leste   \n",
       "226                                               Togo   \n",
       "227                                            Tokelau   \n",
       "228                                              Tonga   \n",
       "229                                Trinidad and Tobago   \n",
       "230                                            Tunisia   \n",
       "231                                             Turkey   \n",
       "232                                       Turkmenistan   \n",
       "233                           Turks and Caicos Islands   \n",
       "234                                             Tuvalu   \n",
       "235                                             Uganda   \n",
       "236                                            Ukraine   \n",
       "237                               United Arab Emirates   \n",
       "238  United Kingdom of Great Britain and Northern I...   \n",
       "239                           United States of America   \n",
       "240                                            Uruguay   \n",
       "241                                         Uzbekistan   \n",
       "242                                            Vanuatu   \n",
       "243                 Venezuela (Bolivarian Republic of)   \n",
       "244                                           Viet Nam   \n",
       "245                                  Wallis and Futuna   \n",
       "246                                     Western Sahara   \n",
       "247                                              Yemen   \n",
       "248                                             Zambia   \n",
       "249                                           Zimbabwe   \n",
       "\n",
       "                                      borders  \n",
       "0              [IRN, PAK, TKM, UZB, TJK, CHN]  \n",
       "1                                          []  \n",
       "2                        [MNE, GRC, MKD, KOS]  \n",
       "3         [TUN, LBY, NER, ESH, MRT, MLI, MAR]  \n",
       "4                                          []  \n",
       "5                                  [FRA, ESP]  \n",
       "6                        [COG, COD, ZMB, NAM]  \n",
       "7                                          []  \n",
       "8                                          []  \n",
       "9                                          []  \n",
       "10                  [BOL, BRA, CHL, PRY, URY]  \n",
       "11                       [AZE, GEO, IRN, TUR]  \n",
       "12                                         []  \n",
       "13                                         []  \n",
       "14   [CZE, DEU, HUN, ITA, LIE, SVK, SVN, CHE]  \n",
       "15                  [ARM, GEO, IRN, RUS, TUR]  \n",
       "16                                         []  \n",
       "17                                         []  \n",
       "18                                 [MMR, IND]  \n",
       "19                                         []  \n",
       "20                  [LVA, LTU, POL, RUS, UKR]  \n",
       "21                       [FRA, DEU, LUX, NLD]  \n",
       "22                                 [GTM, MEX]  \n",
       "23                       [BFA, NER, NGA, TGO]  \n",
       "24                                         []  \n",
       "25                                 [CHN, IND]  \n",
       "26                  [ARG, BRA, CHL, PRY, PER]  \n",
       "27                                         []  \n",
       "28                            [HRV, MNE, SRB]  \n",
       "29                       [NAM, ZAF, ZMB, ZWE]  \n",
       "..                                        ...  \n",
       "220                 [IRQ, ISR, JOR, LBN, TUR]  \n",
       "221                                        []  \n",
       "222                      [AFG, CHN, KGZ, UZB]  \n",
       "223  [BDI, COD, KEN, MWI, MOZ, RWA, UGA, ZMB]  \n",
       "224                      [MMR, KHM, LAO, MYS]  \n",
       "225                                     [IDN]  \n",
       "226                           [BEN, BFA, GHA]  \n",
       "227                                        []  \n",
       "228                                        []  \n",
       "229                                        []  \n",
       "230                                [DZA, LBY]  \n",
       "231  [ARM, AZE, BGR, GEO, GRC, IRN, IRQ, SYR]  \n",
       "232                      [AFG, IRN, KAZ, UZB]  \n",
       "233                                        []  \n",
       "234                                        []  \n",
       "235                 [COD, KEN, RWA, SSD, TZA]  \n",
       "236       [BLR, HUN, MDA, POL, ROU, RUS, SVK]  \n",
       "237                                [OMN, SAU]  \n",
       "238                                     [IRL]  \n",
       "239                                [CAN, MEX]  \n",
       "240                                [ARG, BRA]  \n",
       "241                 [AFG, KAZ, KGZ, TJK, TKM]  \n",
       "242                                        []  \n",
       "243                           [BRA, COL, GUY]  \n",
       "244                           [KHM, CHN, LAO]  \n",
       "245                                        []  \n",
       "246                           [DZA, MRT, MAR]  \n",
       "247                                [OMN, SAU]  \n",
       "248  [AGO, BWA, COD, MWI, MOZ, NAM, TZA, ZWE]  \n",
       "249                      [BWA, MOZ, ZAF, ZMB]  \n",
       "\n",
       "[250 rows x 2 columns]"
      ]
     },
     "execution_count": 49,
     "metadata": {},
     "output_type": "execute_result"
    }
   ],
   "source": [
    "df[['name','borders']] # Is this the question?"
   ]
  },
  {
   "cell_type": "markdown",
   "metadata": {},
   "source": [
    "#### Select countries where language English is spoken"
   ]
  },
  {
   "cell_type": "code",
   "execution_count": 13,
   "metadata": {},
   "outputs": [
    {
     "data": {
      "text/plain": [
       "[{'iso639_1': 'ps', 'iso639_2': 'pus', 'name': 'Pashto', 'nativeName': 'پښتو'},\n",
       " {'iso639_1': 'uz',\n",
       "  'iso639_2': 'uzb',\n",
       "  'name': 'Uzbek',\n",
       "  'nativeName': 'Oʻzbek'},\n",
       " {'iso639_1': 'tk',\n",
       "  'iso639_2': 'tuk',\n",
       "  'name': 'Turkmen',\n",
       "  'nativeName': 'Türkmen'}]"
      ]
     },
     "execution_count": 13,
     "metadata": {},
     "output_type": "execute_result"
    }
   ],
   "source": [
    "df['languages'][0]"
   ]
  },
  {
   "cell_type": "code",
   "execution_count": 17,
   "metadata": {},
   "outputs": [
    {
     "data": {
      "text/html": [
       "<div>\n",
       "<style scoped>\n",
       "    .dataframe tbody tr th:only-of-type {\n",
       "        vertical-align: middle;\n",
       "    }\n",
       "\n",
       "    .dataframe tbody tr th {\n",
       "        vertical-align: top;\n",
       "    }\n",
       "\n",
       "    .dataframe thead th {\n",
       "        text-align: right;\n",
       "    }\n",
       "</style>\n",
       "<table border=\"1\" class=\"dataframe\">\n",
       "  <thead>\n",
       "    <tr style=\"text-align: right;\">\n",
       "      <th></th>\n",
       "      <th>name</th>\n",
       "      <th>languages</th>\n",
       "    </tr>\n",
       "  </thead>\n",
       "  <tbody>\n",
       "    <tr>\n",
       "      <th>4</th>\n",
       "      <td>American Samoa</td>\n",
       "      <td>[{'iso639_1': 'en', 'iso639_2': 'eng', 'name':...</td>\n",
       "    </tr>\n",
       "    <tr>\n",
       "      <th>7</th>\n",
       "      <td>Anguilla</td>\n",
       "      <td>[{'iso639_1': 'en', 'iso639_2': 'eng', 'name':...</td>\n",
       "    </tr>\n",
       "    <tr>\n",
       "      <th>8</th>\n",
       "      <td>Antarctica</td>\n",
       "      <td>[{'iso639_1': 'en', 'iso639_2': 'eng', 'name':...</td>\n",
       "    </tr>\n",
       "    <tr>\n",
       "      <th>9</th>\n",
       "      <td>Antigua and Barbuda</td>\n",
       "      <td>[{'iso639_1': 'en', 'iso639_2': 'eng', 'name':...</td>\n",
       "    </tr>\n",
       "    <tr>\n",
       "      <th>13</th>\n",
       "      <td>Australia</td>\n",
       "      <td>[{'iso639_1': 'en', 'iso639_2': 'eng', 'name':...</td>\n",
       "    </tr>\n",
       "    <tr>\n",
       "      <th>...</th>\n",
       "      <td>...</td>\n",
       "      <td>...</td>\n",
       "    </tr>\n",
       "    <tr>\n",
       "      <th>238</th>\n",
       "      <td>United Kingdom of Great Britain and Northern I...</td>\n",
       "      <td>[{'iso639_1': 'en', 'iso639_2': 'eng', 'name':...</td>\n",
       "    </tr>\n",
       "    <tr>\n",
       "      <th>239</th>\n",
       "      <td>United States of America</td>\n",
       "      <td>[{'iso639_1': 'en', 'iso639_2': 'eng', 'name':...</td>\n",
       "    </tr>\n",
       "    <tr>\n",
       "      <th>242</th>\n",
       "      <td>Vanuatu</td>\n",
       "      <td>[{'iso639_1': 'bi', 'iso639_2': 'bis', 'name':...</td>\n",
       "    </tr>\n",
       "    <tr>\n",
       "      <th>248</th>\n",
       "      <td>Zambia</td>\n",
       "      <td>[{'iso639_1': 'en', 'iso639_2': 'eng', 'name':...</td>\n",
       "    </tr>\n",
       "    <tr>\n",
       "      <th>249</th>\n",
       "      <td>Zimbabwe</td>\n",
       "      <td>[{'iso639_1': 'en', 'iso639_2': 'eng', 'name':...</td>\n",
       "    </tr>\n",
       "  </tbody>\n",
       "</table>\n",
       "<p>91 rows × 2 columns</p>\n",
       "</div>"
      ],
      "text/plain": [
       "                                                  name  \\\n",
       "4                                       American Samoa   \n",
       "7                                             Anguilla   \n",
       "8                                           Antarctica   \n",
       "9                                  Antigua and Barbuda   \n",
       "13                                           Australia   \n",
       "..                                                 ...   \n",
       "238  United Kingdom of Great Britain and Northern I...   \n",
       "239                           United States of America   \n",
       "242                                            Vanuatu   \n",
       "248                                             Zambia   \n",
       "249                                           Zimbabwe   \n",
       "\n",
       "                                             languages  \n",
       "4    [{'iso639_1': 'en', 'iso639_2': 'eng', 'name':...  \n",
       "7    [{'iso639_1': 'en', 'iso639_2': 'eng', 'name':...  \n",
       "8    [{'iso639_1': 'en', 'iso639_2': 'eng', 'name':...  \n",
       "9    [{'iso639_1': 'en', 'iso639_2': 'eng', 'name':...  \n",
       "13   [{'iso639_1': 'en', 'iso639_2': 'eng', 'name':...  \n",
       "..                                                 ...  \n",
       "238  [{'iso639_1': 'en', 'iso639_2': 'eng', 'name':...  \n",
       "239  [{'iso639_1': 'en', 'iso639_2': 'eng', 'name':...  \n",
       "242  [{'iso639_1': 'bi', 'iso639_2': 'bis', 'name':...  \n",
       "248  [{'iso639_1': 'en', 'iso639_2': 'eng', 'name':...  \n",
       "249  [{'iso639_1': 'en', 'iso639_2': 'eng', 'name':...  \n",
       "\n",
       "[91 rows x 2 columns]"
      ]
     },
     "execution_count": 17,
     "metadata": {},
     "output_type": "execute_result"
    }
   ],
   "source": [
    "# ls is a list of dict\n",
    "def english_spoken(ls):\n",
    "    # print(type(ls))\n",
    "    for d in ls:\n",
    "        if 'en' in d.values():\n",
    "            return True\n",
    "    else:\n",
    "        return False\n",
    "    \n",
    "df.loc[df['languages'].apply(english_spoken),['name','languages']]"
   ]
  },
  {
   "cell_type": "markdown",
   "metadata": {},
   "source": [
    "#### Display country where the density of population is highest"
   ]
  },
  {
   "cell_type": "code",
   "execution_count": 10,
   "metadata": {},
   "outputs": [
    {
     "data": {
      "text/html": [
       "<div>\n",
       "<style scoped>\n",
       "    .dataframe tbody tr th:only-of-type {\n",
       "        vertical-align: middle;\n",
       "    }\n",
       "\n",
       "    .dataframe tbody tr th {\n",
       "        vertical-align: top;\n",
       "    }\n",
       "\n",
       "    .dataframe thead th {\n",
       "        text-align: right;\n",
       "    }\n",
       "</style>\n",
       "<table border=\"1\" class=\"dataframe\">\n",
       "  <thead>\n",
       "    <tr style=\"text-align: right;\">\n",
       "      <th></th>\n",
       "      <th>name</th>\n",
       "      <th>population</th>\n",
       "      <th>area</th>\n",
       "    </tr>\n",
       "  </thead>\n",
       "  <tbody>\n",
       "    <tr>\n",
       "      <th>131</th>\n",
       "      <td>Macao</td>\n",
       "      <td>649100</td>\n",
       "      <td>30.0</td>\n",
       "    </tr>\n",
       "  </tbody>\n",
       "</table>\n",
       "</div>"
      ],
      "text/plain": [
       "      name  population  area\n",
       "131  Macao      649100  30.0"
      ]
     },
     "execution_count": 10,
     "metadata": {},
     "output_type": "execute_result"
    }
   ],
   "source": [
    "df.loc[df['population']/df['area'] == max(df['population']/df['area']),['name','population','area']]"
   ]
  },
  {
   "cell_type": "markdown",
   "metadata": {},
   "source": [
    "### 23-APR-2020"
   ]
  },
  {
   "cell_type": "code",
   "execution_count": 25,
   "metadata": {},
   "outputs": [],
   "source": [
    "import pandas as pd\n",
    "import numpy as np"
   ]
  },
  {
   "cell_type": "code",
   "execution_count": 26,
   "metadata": {},
   "outputs": [],
   "source": [
    "df = pd.read_csv('marks.csv',header=None,names=['name','subject','marks'])"
   ]
  },
  {
   "cell_type": "code",
   "execution_count": 27,
   "metadata": {},
   "outputs": [],
   "source": [
    "df = df.append({'name':'Mark','subject':'Java', 'marks':90}, ignore_index=True)"
   ]
  },
  {
   "cell_type": "code",
   "execution_count": 28,
   "metadata": {},
   "outputs": [],
   "source": [
    "df.loc[11] = ['Mark','Python',88]"
   ]
  },
  {
   "cell_type": "code",
   "execution_count": 29,
   "metadata": {},
   "outputs": [],
   "source": [
    "df['passmark'] = 50"
   ]
  },
  {
   "cell_type": "code",
   "execution_count": 30,
   "metadata": {},
   "outputs": [],
   "source": [
    "df.loc[ df.subject == 'Python', 'passmark'] = 60  # Change passmark for Python to 60"
   ]
  },
  {
   "cell_type": "markdown",
   "metadata": {},
   "source": [
    "#### Add a new column called result. Message should be pass/fail based on marks and passmark"
   ]
  },
  {
   "cell_type": "code",
   "execution_count": 31,
   "metadata": {},
   "outputs": [
    {
     "data": {
      "text/html": [
       "<div>\n",
       "<style scoped>\n",
       "    .dataframe tbody tr th:only-of-type {\n",
       "        vertical-align: middle;\n",
       "    }\n",
       "\n",
       "    .dataframe tbody tr th {\n",
       "        vertical-align: top;\n",
       "    }\n",
       "\n",
       "    .dataframe thead th {\n",
       "        text-align: right;\n",
       "    }\n",
       "</style>\n",
       "<table border=\"1\" class=\"dataframe\">\n",
       "  <thead>\n",
       "    <tr style=\"text-align: right;\">\n",
       "      <th></th>\n",
       "      <th>name</th>\n",
       "      <th>subject</th>\n",
       "      <th>marks</th>\n",
       "      <th>passmark</th>\n",
       "      <th>result</th>\n",
       "    </tr>\n",
       "  </thead>\n",
       "  <tbody>\n",
       "    <tr>\n",
       "      <th>0</th>\n",
       "      <td>Bill</td>\n",
       "      <td>Java</td>\n",
       "      <td>90.0</td>\n",
       "      <td>50</td>\n",
       "      <td>Pass</td>\n",
       "    </tr>\n",
       "    <tr>\n",
       "      <th>1</th>\n",
       "      <td>Bill</td>\n",
       "      <td>Python</td>\n",
       "      <td>95.0</td>\n",
       "      <td>60</td>\n",
       "      <td>Pass</td>\n",
       "    </tr>\n",
       "    <tr>\n",
       "      <th>2</th>\n",
       "      <td>Steve</td>\n",
       "      <td>Java</td>\n",
       "      <td>80.0</td>\n",
       "      <td>50</td>\n",
       "      <td>Pass</td>\n",
       "    </tr>\n",
       "    <tr>\n",
       "      <th>3</th>\n",
       "      <td>Steve</td>\n",
       "      <td>C</td>\n",
       "      <td>90.0</td>\n",
       "      <td>50</td>\n",
       "      <td>Pass</td>\n",
       "    </tr>\n",
       "    <tr>\n",
       "      <th>4</th>\n",
       "      <td>Roberts</td>\n",
       "      <td>HTML</td>\n",
       "      <td>98.0</td>\n",
       "      <td>50</td>\n",
       "      <td>Pass</td>\n",
       "    </tr>\n",
       "    <tr>\n",
       "      <th>5</th>\n",
       "      <td>Roberts</td>\n",
       "      <td>Java</td>\n",
       "      <td>60.0</td>\n",
       "      <td>50</td>\n",
       "      <td>Pass</td>\n",
       "    </tr>\n",
       "    <tr>\n",
       "      <th>6</th>\n",
       "      <td>Roberts</td>\n",
       "      <td>Python</td>\n",
       "      <td>70.0</td>\n",
       "      <td>60</td>\n",
       "      <td>Pass</td>\n",
       "    </tr>\n",
       "    <tr>\n",
       "      <th>7</th>\n",
       "      <td>Steve</td>\n",
       "      <td>Python</td>\n",
       "      <td>NaN</td>\n",
       "      <td>60</td>\n",
       "      <td>Fail</td>\n",
       "    </tr>\n",
       "    <tr>\n",
       "      <th>8</th>\n",
       "      <td>Henry</td>\n",
       "      <td>NaN</td>\n",
       "      <td>60.0</td>\n",
       "      <td>50</td>\n",
       "      <td>Pass</td>\n",
       "    </tr>\n",
       "    <tr>\n",
       "      <th>9</th>\n",
       "      <td>Mark</td>\n",
       "      <td>Java</td>\n",
       "      <td>90.0</td>\n",
       "      <td>50</td>\n",
       "      <td>Pass</td>\n",
       "    </tr>\n",
       "    <tr>\n",
       "      <th>11</th>\n",
       "      <td>Mark</td>\n",
       "      <td>Python</td>\n",
       "      <td>88.0</td>\n",
       "      <td>60</td>\n",
       "      <td>Pass</td>\n",
       "    </tr>\n",
       "  </tbody>\n",
       "</table>\n",
       "</div>"
      ],
      "text/plain": [
       "       name subject  marks  passmark result\n",
       "0      Bill    Java   90.0        50   Pass\n",
       "1      Bill  Python   95.0        60   Pass\n",
       "2     Steve    Java   80.0        50   Pass\n",
       "3     Steve       C   90.0        50   Pass\n",
       "4   Roberts    HTML   98.0        50   Pass\n",
       "5   Roberts    Java   60.0        50   Pass\n",
       "6   Roberts  Python   70.0        60   Pass\n",
       "7     Steve  Python    NaN        60   Fail\n",
       "8     Henry     NaN   60.0        50   Pass\n",
       "9      Mark    Java   90.0        50   Pass\n",
       "11     Mark  Python   88.0        60   Pass"
      ]
     },
     "execution_count": 31,
     "metadata": {},
     "output_type": "execute_result"
    }
   ],
   "source": [
    "def get_result(v):\n",
    "    if v['marks'] > v['passmark']:\n",
    "        return 'Pass'\n",
    "    else:\n",
    "        return 'Fail'\n",
    "\n",
    "df['result'] = df.apply(get_result,axis=1)\n",
    "df"
   ]
  },
  {
   "cell_type": "markdown",
   "metadata": {},
   "source": [
    "#### Create a column called grade. A - if marks >= 80, B - if marks >= 70, C - otherwise, F - for those who failed"
   ]
  },
  {
   "cell_type": "code",
   "execution_count": 32,
   "metadata": {},
   "outputs": [
    {
     "data": {
      "text/html": [
       "<div>\n",
       "<style scoped>\n",
       "    .dataframe tbody tr th:only-of-type {\n",
       "        vertical-align: middle;\n",
       "    }\n",
       "\n",
       "    .dataframe tbody tr th {\n",
       "        vertical-align: top;\n",
       "    }\n",
       "\n",
       "    .dataframe thead th {\n",
       "        text-align: right;\n",
       "    }\n",
       "</style>\n",
       "<table border=\"1\" class=\"dataframe\">\n",
       "  <thead>\n",
       "    <tr style=\"text-align: right;\">\n",
       "      <th></th>\n",
       "      <th>name</th>\n",
       "      <th>subject</th>\n",
       "      <th>marks</th>\n",
       "      <th>passmark</th>\n",
       "      <th>result</th>\n",
       "      <th>grade</th>\n",
       "    </tr>\n",
       "  </thead>\n",
       "  <tbody>\n",
       "    <tr>\n",
       "      <th>0</th>\n",
       "      <td>Bill</td>\n",
       "      <td>Java</td>\n",
       "      <td>90.0</td>\n",
       "      <td>50</td>\n",
       "      <td>Pass</td>\n",
       "      <td>A</td>\n",
       "    </tr>\n",
       "    <tr>\n",
       "      <th>1</th>\n",
       "      <td>Bill</td>\n",
       "      <td>Python</td>\n",
       "      <td>95.0</td>\n",
       "      <td>60</td>\n",
       "      <td>Pass</td>\n",
       "      <td>A</td>\n",
       "    </tr>\n",
       "    <tr>\n",
       "      <th>2</th>\n",
       "      <td>Steve</td>\n",
       "      <td>Java</td>\n",
       "      <td>80.0</td>\n",
       "      <td>50</td>\n",
       "      <td>Pass</td>\n",
       "      <td>A</td>\n",
       "    </tr>\n",
       "    <tr>\n",
       "      <th>3</th>\n",
       "      <td>Steve</td>\n",
       "      <td>C</td>\n",
       "      <td>90.0</td>\n",
       "      <td>50</td>\n",
       "      <td>Pass</td>\n",
       "      <td>A</td>\n",
       "    </tr>\n",
       "    <tr>\n",
       "      <th>4</th>\n",
       "      <td>Roberts</td>\n",
       "      <td>HTML</td>\n",
       "      <td>98.0</td>\n",
       "      <td>50</td>\n",
       "      <td>Pass</td>\n",
       "      <td>A</td>\n",
       "    </tr>\n",
       "    <tr>\n",
       "      <th>5</th>\n",
       "      <td>Roberts</td>\n",
       "      <td>Java</td>\n",
       "      <td>60.0</td>\n",
       "      <td>50</td>\n",
       "      <td>Pass</td>\n",
       "      <td>C</td>\n",
       "    </tr>\n",
       "    <tr>\n",
       "      <th>6</th>\n",
       "      <td>Roberts</td>\n",
       "      <td>Python</td>\n",
       "      <td>70.0</td>\n",
       "      <td>60</td>\n",
       "      <td>Pass</td>\n",
       "      <td>B</td>\n",
       "    </tr>\n",
       "    <tr>\n",
       "      <th>7</th>\n",
       "      <td>Steve</td>\n",
       "      <td>Python</td>\n",
       "      <td>NaN</td>\n",
       "      <td>60</td>\n",
       "      <td>Fail</td>\n",
       "      <td>F</td>\n",
       "    </tr>\n",
       "    <tr>\n",
       "      <th>8</th>\n",
       "      <td>Henry</td>\n",
       "      <td>NaN</td>\n",
       "      <td>60.0</td>\n",
       "      <td>50</td>\n",
       "      <td>Pass</td>\n",
       "      <td>C</td>\n",
       "    </tr>\n",
       "    <tr>\n",
       "      <th>9</th>\n",
       "      <td>Mark</td>\n",
       "      <td>Java</td>\n",
       "      <td>90.0</td>\n",
       "      <td>50</td>\n",
       "      <td>Pass</td>\n",
       "      <td>A</td>\n",
       "    </tr>\n",
       "    <tr>\n",
       "      <th>11</th>\n",
       "      <td>Mark</td>\n",
       "      <td>Python</td>\n",
       "      <td>88.0</td>\n",
       "      <td>60</td>\n",
       "      <td>Pass</td>\n",
       "      <td>A</td>\n",
       "    </tr>\n",
       "  </tbody>\n",
       "</table>\n",
       "</div>"
      ],
      "text/plain": [
       "       name subject  marks  passmark result grade\n",
       "0      Bill    Java   90.0        50   Pass     A\n",
       "1      Bill  Python   95.0        60   Pass     A\n",
       "2     Steve    Java   80.0        50   Pass     A\n",
       "3     Steve       C   90.0        50   Pass     A\n",
       "4   Roberts    HTML   98.0        50   Pass     A\n",
       "5   Roberts    Java   60.0        50   Pass     C\n",
       "6   Roberts  Python   70.0        60   Pass     B\n",
       "7     Steve  Python    NaN        60   Fail     F\n",
       "8     Henry     NaN   60.0        50   Pass     C\n",
       "9      Mark    Java   90.0        50   Pass     A\n",
       "11     Mark  Python   88.0        60   Pass     A"
      ]
     },
     "execution_count": 32,
     "metadata": {},
     "output_type": "execute_result"
    }
   ],
   "source": [
    "def get_grade(g):\n",
    "    if g.result == 'Fail':\n",
    "        return 'F'\n",
    "    elif g.marks >= 80:\n",
    "        return 'A'\n",
    "    elif g.marks >= 70:\n",
    "        return 'B'\n",
    "    else:\n",
    "        return 'C'\n",
    "df['grade'] = df.apply(get_grade,axis=1)\n",
    "df"
   ]
  },
  {
   "cell_type": "markdown",
   "metadata": {},
   "source": [
    "#### Add a new row which contains name, subject amd marks at the end. See how you can manage other fields."
   ]
  },
  {
   "cell_type": "code",
   "execution_count": 33,
   "metadata": {},
   "outputs": [],
   "source": [
    "df.loc[max(df.index)+1] = ['James','Java',75,50, np.nan,np.nan]  "
   ]
  },
  {
   "cell_type": "code",
   "execution_count": 35,
   "metadata": {},
   "outputs": [],
   "source": [
    "df = df.append({'name':'James','subject':'Python','marks':85},ignore_index=True) # allows creation of new record with 3 columns"
   ]
  },
  {
   "cell_type": "code",
   "execution_count": 36,
   "metadata": {},
   "outputs": [
    {
     "data": {
      "text/html": [
       "<div>\n",
       "<style scoped>\n",
       "    .dataframe tbody tr th:only-of-type {\n",
       "        vertical-align: middle;\n",
       "    }\n",
       "\n",
       "    .dataframe tbody tr th {\n",
       "        vertical-align: top;\n",
       "    }\n",
       "\n",
       "    .dataframe thead th {\n",
       "        text-align: right;\n",
       "    }\n",
       "</style>\n",
       "<table border=\"1\" class=\"dataframe\">\n",
       "  <thead>\n",
       "    <tr style=\"text-align: right;\">\n",
       "      <th></th>\n",
       "      <th>name</th>\n",
       "      <th>subject</th>\n",
       "      <th>marks</th>\n",
       "      <th>passmark</th>\n",
       "      <th>result</th>\n",
       "      <th>grade</th>\n",
       "    </tr>\n",
       "  </thead>\n",
       "  <tbody>\n",
       "    <tr>\n",
       "      <th>0</th>\n",
       "      <td>Bill</td>\n",
       "      <td>Java</td>\n",
       "      <td>90.0</td>\n",
       "      <td>50.0</td>\n",
       "      <td>Pass</td>\n",
       "      <td>A</td>\n",
       "    </tr>\n",
       "    <tr>\n",
       "      <th>1</th>\n",
       "      <td>Bill</td>\n",
       "      <td>Python</td>\n",
       "      <td>95.0</td>\n",
       "      <td>60.0</td>\n",
       "      <td>Pass</td>\n",
       "      <td>A</td>\n",
       "    </tr>\n",
       "    <tr>\n",
       "      <th>2</th>\n",
       "      <td>Steve</td>\n",
       "      <td>Java</td>\n",
       "      <td>80.0</td>\n",
       "      <td>50.0</td>\n",
       "      <td>Pass</td>\n",
       "      <td>A</td>\n",
       "    </tr>\n",
       "    <tr>\n",
       "      <th>3</th>\n",
       "      <td>Steve</td>\n",
       "      <td>C</td>\n",
       "      <td>90.0</td>\n",
       "      <td>50.0</td>\n",
       "      <td>Pass</td>\n",
       "      <td>A</td>\n",
       "    </tr>\n",
       "    <tr>\n",
       "      <th>4</th>\n",
       "      <td>Roberts</td>\n",
       "      <td>HTML</td>\n",
       "      <td>98.0</td>\n",
       "      <td>50.0</td>\n",
       "      <td>Pass</td>\n",
       "      <td>A</td>\n",
       "    </tr>\n",
       "    <tr>\n",
       "      <th>5</th>\n",
       "      <td>Roberts</td>\n",
       "      <td>Java</td>\n",
       "      <td>60.0</td>\n",
       "      <td>50.0</td>\n",
       "      <td>Pass</td>\n",
       "      <td>C</td>\n",
       "    </tr>\n",
       "    <tr>\n",
       "      <th>6</th>\n",
       "      <td>Roberts</td>\n",
       "      <td>Python</td>\n",
       "      <td>70.0</td>\n",
       "      <td>60.0</td>\n",
       "      <td>Pass</td>\n",
       "      <td>B</td>\n",
       "    </tr>\n",
       "    <tr>\n",
       "      <th>7</th>\n",
       "      <td>Steve</td>\n",
       "      <td>Python</td>\n",
       "      <td>NaN</td>\n",
       "      <td>60.0</td>\n",
       "      <td>Fail</td>\n",
       "      <td>F</td>\n",
       "    </tr>\n",
       "    <tr>\n",
       "      <th>8</th>\n",
       "      <td>Henry</td>\n",
       "      <td>NaN</td>\n",
       "      <td>60.0</td>\n",
       "      <td>50.0</td>\n",
       "      <td>Pass</td>\n",
       "      <td>C</td>\n",
       "    </tr>\n",
       "    <tr>\n",
       "      <th>9</th>\n",
       "      <td>Mark</td>\n",
       "      <td>Java</td>\n",
       "      <td>90.0</td>\n",
       "      <td>50.0</td>\n",
       "      <td>Pass</td>\n",
       "      <td>A</td>\n",
       "    </tr>\n",
       "    <tr>\n",
       "      <th>10</th>\n",
       "      <td>Mark</td>\n",
       "      <td>Python</td>\n",
       "      <td>88.0</td>\n",
       "      <td>60.0</td>\n",
       "      <td>Pass</td>\n",
       "      <td>A</td>\n",
       "    </tr>\n",
       "    <tr>\n",
       "      <th>11</th>\n",
       "      <td>James</td>\n",
       "      <td>Java</td>\n",
       "      <td>75.0</td>\n",
       "      <td>50.0</td>\n",
       "      <td>NaN</td>\n",
       "      <td>NaN</td>\n",
       "    </tr>\n",
       "    <tr>\n",
       "      <th>12</th>\n",
       "      <td>James</td>\n",
       "      <td>Python</td>\n",
       "      <td>85.0</td>\n",
       "      <td>NaN</td>\n",
       "      <td>NaN</td>\n",
       "      <td>NaN</td>\n",
       "    </tr>\n",
       "  </tbody>\n",
       "</table>\n",
       "</div>"
      ],
      "text/plain": [
       "       name subject  marks  passmark result grade\n",
       "0      Bill    Java   90.0      50.0   Pass     A\n",
       "1      Bill  Python   95.0      60.0   Pass     A\n",
       "2     Steve    Java   80.0      50.0   Pass     A\n",
       "3     Steve       C   90.0      50.0   Pass     A\n",
       "4   Roberts    HTML   98.0      50.0   Pass     A\n",
       "5   Roberts    Java   60.0      50.0   Pass     C\n",
       "6   Roberts  Python   70.0      60.0   Pass     B\n",
       "7     Steve  Python    NaN      60.0   Fail     F\n",
       "8     Henry     NaN   60.0      50.0   Pass     C\n",
       "9      Mark    Java   90.0      50.0   Pass     A\n",
       "10     Mark  Python   88.0      60.0   Pass     A\n",
       "11    James    Java   75.0      50.0    NaN   NaN\n",
       "12    James  Python   85.0       NaN    NaN   NaN"
      ]
     },
     "execution_count": 36,
     "metadata": {},
     "output_type": "execute_result"
    }
   ],
   "source": [
    "df"
   ]
  },
  {
   "cell_type": "markdown",
   "metadata": {},
   "source": [
    "#### Delete grade and result"
   ]
  },
  {
   "cell_type": "code",
   "execution_count": 37,
   "metadata": {
    "collapsed": true,
    "jupyter": {
     "outputs_hidden": true
    }
   },
   "outputs": [
    {
     "data": {
      "text/html": [
       "<div>\n",
       "<style scoped>\n",
       "    .dataframe tbody tr th:only-of-type {\n",
       "        vertical-align: middle;\n",
       "    }\n",
       "\n",
       "    .dataframe tbody tr th {\n",
       "        vertical-align: top;\n",
       "    }\n",
       "\n",
       "    .dataframe thead th {\n",
       "        text-align: right;\n",
       "    }\n",
       "</style>\n",
       "<table border=\"1\" class=\"dataframe\">\n",
       "  <thead>\n",
       "    <tr style=\"text-align: right;\">\n",
       "      <th></th>\n",
       "      <th>name</th>\n",
       "      <th>subject</th>\n",
       "      <th>marks</th>\n",
       "      <th>passmark</th>\n",
       "    </tr>\n",
       "  </thead>\n",
       "  <tbody>\n",
       "    <tr>\n",
       "      <th>0</th>\n",
       "      <td>Bill</td>\n",
       "      <td>Java</td>\n",
       "      <td>90.0</td>\n",
       "      <td>50.0</td>\n",
       "    </tr>\n",
       "    <tr>\n",
       "      <th>1</th>\n",
       "      <td>Bill</td>\n",
       "      <td>Python</td>\n",
       "      <td>95.0</td>\n",
       "      <td>60.0</td>\n",
       "    </tr>\n",
       "    <tr>\n",
       "      <th>2</th>\n",
       "      <td>Steve</td>\n",
       "      <td>Java</td>\n",
       "      <td>80.0</td>\n",
       "      <td>50.0</td>\n",
       "    </tr>\n",
       "    <tr>\n",
       "      <th>3</th>\n",
       "      <td>Steve</td>\n",
       "      <td>C</td>\n",
       "      <td>90.0</td>\n",
       "      <td>50.0</td>\n",
       "    </tr>\n",
       "    <tr>\n",
       "      <th>4</th>\n",
       "      <td>Roberts</td>\n",
       "      <td>HTML</td>\n",
       "      <td>98.0</td>\n",
       "      <td>50.0</td>\n",
       "    </tr>\n",
       "    <tr>\n",
       "      <th>5</th>\n",
       "      <td>Roberts</td>\n",
       "      <td>Java</td>\n",
       "      <td>60.0</td>\n",
       "      <td>50.0</td>\n",
       "    </tr>\n",
       "    <tr>\n",
       "      <th>6</th>\n",
       "      <td>Roberts</td>\n",
       "      <td>Python</td>\n",
       "      <td>70.0</td>\n",
       "      <td>60.0</td>\n",
       "    </tr>\n",
       "    <tr>\n",
       "      <th>7</th>\n",
       "      <td>Steve</td>\n",
       "      <td>Python</td>\n",
       "      <td>NaN</td>\n",
       "      <td>60.0</td>\n",
       "    </tr>\n",
       "    <tr>\n",
       "      <th>8</th>\n",
       "      <td>Henry</td>\n",
       "      <td>NaN</td>\n",
       "      <td>60.0</td>\n",
       "      <td>50.0</td>\n",
       "    </tr>\n",
       "    <tr>\n",
       "      <th>9</th>\n",
       "      <td>Mark</td>\n",
       "      <td>Java</td>\n",
       "      <td>90.0</td>\n",
       "      <td>50.0</td>\n",
       "    </tr>\n",
       "    <tr>\n",
       "      <th>10</th>\n",
       "      <td>Mark</td>\n",
       "      <td>Python</td>\n",
       "      <td>88.0</td>\n",
       "      <td>60.0</td>\n",
       "    </tr>\n",
       "    <tr>\n",
       "      <th>11</th>\n",
       "      <td>James</td>\n",
       "      <td>Java</td>\n",
       "      <td>75.0</td>\n",
       "      <td>50.0</td>\n",
       "    </tr>\n",
       "    <tr>\n",
       "      <th>12</th>\n",
       "      <td>James</td>\n",
       "      <td>Python</td>\n",
       "      <td>85.0</td>\n",
       "      <td>NaN</td>\n",
       "    </tr>\n",
       "  </tbody>\n",
       "</table>\n",
       "</div>"
      ],
      "text/plain": [
       "       name subject  marks  passmark\n",
       "0      Bill    Java   90.0      50.0\n",
       "1      Bill  Python   95.0      60.0\n",
       "2     Steve    Java   80.0      50.0\n",
       "3     Steve       C   90.0      50.0\n",
       "4   Roberts    HTML   98.0      50.0\n",
       "5   Roberts    Java   60.0      50.0\n",
       "6   Roberts  Python   70.0      60.0\n",
       "7     Steve  Python    NaN      60.0\n",
       "8     Henry     NaN   60.0      50.0\n",
       "9      Mark    Java   90.0      50.0\n",
       "10     Mark  Python   88.0      60.0\n",
       "11    James    Java   75.0      50.0\n",
       "12    James  Python   85.0       NaN"
      ]
     },
     "execution_count": 37,
     "metadata": {},
     "output_type": "execute_result"
    }
   ],
   "source": [
    "df.drop(['grade','result'],axis=1) # inplace=True to delete in original df"
   ]
  },
  {
   "cell_type": "markdown",
   "metadata": {},
   "source": [
    "### Marks DataFrame"
   ]
  },
  {
   "cell_type": "code",
   "execution_count": 18,
   "metadata": {},
   "outputs": [],
   "source": [
    "import pandas as pd\n",
    "import numpy as np\n",
    "import seaborn as sns"
   ]
  },
  {
   "cell_type": "code",
   "execution_count": 2,
   "metadata": {
    "collapsed": true,
    "jupyter": {
     "outputs_hidden": true
    }
   },
   "outputs": [],
   "source": [
    "df = pd.read_csv('marks.csv',header=None,names=['name','subject','marks'])"
   ]
  },
  {
   "cell_type": "code",
   "execution_count": 3,
   "metadata": {
    "collapsed": true,
    "jupyter": {
     "outputs_hidden": true
    }
   },
   "outputs": [],
   "source": [
    "df = df.append({'name':'Mark','subject':'Java', 'marks':90}, ignore_index=True)"
   ]
  },
  {
   "cell_type": "code",
   "execution_count": 4,
   "metadata": {
    "collapsed": true,
    "jupyter": {
     "outputs_hidden": true
    }
   },
   "outputs": [],
   "source": [
    "df.loc[11] = ['Mark','Python',88]"
   ]
  },
  {
   "cell_type": "code",
   "execution_count": 5,
   "metadata": {
    "collapsed": true,
    "jupyter": {
     "outputs_hidden": true
    }
   },
   "outputs": [],
   "source": [
    "df['passmark'] = 50"
   ]
  },
  {
   "cell_type": "code",
   "execution_count": 6,
   "metadata": {
    "collapsed": true,
    "jupyter": {
     "outputs_hidden": true
    }
   },
   "outputs": [],
   "source": [
    "df.loc[ df.subject == 'Python', 'passmark'] = 60"
   ]
  },
  {
   "cell_type": "markdown",
   "metadata": {},
   "source": [
    "#### Create another dataframe with time the exam was taken (time_df - name,subject,time) and join to marks_df on name and subject"
   ]
  },
  {
   "cell_type": "code",
   "execution_count": 38,
   "metadata": {},
   "outputs": [
    {
     "data": {
      "text/html": [
       "<div>\n",
       "<style scoped>\n",
       "    .dataframe tbody tr th:only-of-type {\n",
       "        vertical-align: middle;\n",
       "    }\n",
       "\n",
       "    .dataframe tbody tr th {\n",
       "        vertical-align: top;\n",
       "    }\n",
       "\n",
       "    .dataframe thead th {\n",
       "        text-align: right;\n",
       "    }\n",
       "</style>\n",
       "<table border=\"1\" class=\"dataframe\">\n",
       "  <thead>\n",
       "    <tr style=\"text-align: right;\">\n",
       "      <th></th>\n",
       "      <th>name</th>\n",
       "      <th>subject</th>\n",
       "      <th>time</th>\n",
       "    </tr>\n",
       "  </thead>\n",
       "  <tbody>\n",
       "    <tr>\n",
       "      <th>0</th>\n",
       "      <td>Bill</td>\n",
       "      <td>Java</td>\n",
       "      <td>60.0</td>\n",
       "    </tr>\n",
       "    <tr>\n",
       "      <th>1</th>\n",
       "      <td>Bill</td>\n",
       "      <td>Python</td>\n",
       "      <td>55.0</td>\n",
       "    </tr>\n",
       "    <tr>\n",
       "      <th>2</th>\n",
       "      <td>Steve</td>\n",
       "      <td>Java</td>\n",
       "      <td>50.0</td>\n",
       "    </tr>\n",
       "    <tr>\n",
       "      <th>3</th>\n",
       "      <td>Steve</td>\n",
       "      <td>C</td>\n",
       "      <td>40.0</td>\n",
       "    </tr>\n",
       "    <tr>\n",
       "      <th>4</th>\n",
       "      <td>Roberts</td>\n",
       "      <td>HTML</td>\n",
       "      <td>78.0</td>\n",
       "    </tr>\n",
       "    <tr>\n",
       "      <th>5</th>\n",
       "      <td>Roberts</td>\n",
       "      <td>Java</td>\n",
       "      <td>40.0</td>\n",
       "    </tr>\n",
       "    <tr>\n",
       "      <th>6</th>\n",
       "      <td>Roberts</td>\n",
       "      <td>Python</td>\n",
       "      <td>45.0</td>\n",
       "    </tr>\n",
       "    <tr>\n",
       "      <th>7</th>\n",
       "      <td>Steve</td>\n",
       "      <td>Python</td>\n",
       "      <td>NaN</td>\n",
       "    </tr>\n",
       "    <tr>\n",
       "      <th>8</th>\n",
       "      <td>Henry</td>\n",
       "      <td>NaN</td>\n",
       "      <td>55.0</td>\n",
       "    </tr>\n",
       "  </tbody>\n",
       "</table>\n",
       "</div>"
      ],
      "text/plain": [
       "      name subject  time\n",
       "0     Bill    Java  60.0\n",
       "1     Bill  Python  55.0\n",
       "2    Steve    Java  50.0\n",
       "3    Steve       C  40.0\n",
       "4  Roberts    HTML  78.0\n",
       "5  Roberts    Java  40.0\n",
       "6  Roberts  Python  45.0\n",
       "7    Steve  Python   NaN\n",
       "8    Henry     NaN  55.0"
      ]
     },
     "execution_count": 38,
     "metadata": {},
     "output_type": "execute_result"
    }
   ],
   "source": [
    "time_df = pd.read_csv('time.csv',header=None,names=['name','subject','time'])\n",
    "time_df"
   ]
  },
  {
   "cell_type": "code",
   "execution_count": 39,
   "metadata": {},
   "outputs": [
    {
     "data": {
      "text/html": [
       "<div>\n",
       "<style scoped>\n",
       "    .dataframe tbody tr th:only-of-type {\n",
       "        vertical-align: middle;\n",
       "    }\n",
       "\n",
       "    .dataframe tbody tr th {\n",
       "        vertical-align: top;\n",
       "    }\n",
       "\n",
       "    .dataframe thead th {\n",
       "        text-align: right;\n",
       "    }\n",
       "</style>\n",
       "<table border=\"1\" class=\"dataframe\">\n",
       "  <thead>\n",
       "    <tr style=\"text-align: right;\">\n",
       "      <th></th>\n",
       "      <th>name</th>\n",
       "      <th>subject</th>\n",
       "      <th>marks</th>\n",
       "      <th>passmark</th>\n",
       "      <th>result</th>\n",
       "      <th>grade</th>\n",
       "      <th>time</th>\n",
       "    </tr>\n",
       "  </thead>\n",
       "  <tbody>\n",
       "    <tr>\n",
       "      <th>0</th>\n",
       "      <td>Bill</td>\n",
       "      <td>Java</td>\n",
       "      <td>90.0</td>\n",
       "      <td>50.0</td>\n",
       "      <td>Pass</td>\n",
       "      <td>A</td>\n",
       "      <td>60.0</td>\n",
       "    </tr>\n",
       "    <tr>\n",
       "      <th>1</th>\n",
       "      <td>Bill</td>\n",
       "      <td>Python</td>\n",
       "      <td>95.0</td>\n",
       "      <td>60.0</td>\n",
       "      <td>Pass</td>\n",
       "      <td>A</td>\n",
       "      <td>55.0</td>\n",
       "    </tr>\n",
       "    <tr>\n",
       "      <th>2</th>\n",
       "      <td>Steve</td>\n",
       "      <td>Java</td>\n",
       "      <td>80.0</td>\n",
       "      <td>50.0</td>\n",
       "      <td>Pass</td>\n",
       "      <td>A</td>\n",
       "      <td>50.0</td>\n",
       "    </tr>\n",
       "    <tr>\n",
       "      <th>3</th>\n",
       "      <td>Steve</td>\n",
       "      <td>C</td>\n",
       "      <td>90.0</td>\n",
       "      <td>50.0</td>\n",
       "      <td>Pass</td>\n",
       "      <td>A</td>\n",
       "      <td>40.0</td>\n",
       "    </tr>\n",
       "    <tr>\n",
       "      <th>4</th>\n",
       "      <td>Roberts</td>\n",
       "      <td>HTML</td>\n",
       "      <td>98.0</td>\n",
       "      <td>50.0</td>\n",
       "      <td>Pass</td>\n",
       "      <td>A</td>\n",
       "      <td>78.0</td>\n",
       "    </tr>\n",
       "    <tr>\n",
       "      <th>5</th>\n",
       "      <td>Roberts</td>\n",
       "      <td>Java</td>\n",
       "      <td>60.0</td>\n",
       "      <td>50.0</td>\n",
       "      <td>Pass</td>\n",
       "      <td>C</td>\n",
       "      <td>40.0</td>\n",
       "    </tr>\n",
       "    <tr>\n",
       "      <th>6</th>\n",
       "      <td>Roberts</td>\n",
       "      <td>Python</td>\n",
       "      <td>70.0</td>\n",
       "      <td>60.0</td>\n",
       "      <td>Pass</td>\n",
       "      <td>B</td>\n",
       "      <td>45.0</td>\n",
       "    </tr>\n",
       "    <tr>\n",
       "      <th>7</th>\n",
       "      <td>Steve</td>\n",
       "      <td>Python</td>\n",
       "      <td>NaN</td>\n",
       "      <td>60.0</td>\n",
       "      <td>Fail</td>\n",
       "      <td>F</td>\n",
       "      <td>NaN</td>\n",
       "    </tr>\n",
       "    <tr>\n",
       "      <th>8</th>\n",
       "      <td>Henry</td>\n",
       "      <td>NaN</td>\n",
       "      <td>60.0</td>\n",
       "      <td>50.0</td>\n",
       "      <td>Pass</td>\n",
       "      <td>C</td>\n",
       "      <td>55.0</td>\n",
       "    </tr>\n",
       "    <tr>\n",
       "      <th>9</th>\n",
       "      <td>Mark</td>\n",
       "      <td>Java</td>\n",
       "      <td>90.0</td>\n",
       "      <td>50.0</td>\n",
       "      <td>Pass</td>\n",
       "      <td>A</td>\n",
       "      <td>NaN</td>\n",
       "    </tr>\n",
       "    <tr>\n",
       "      <th>10</th>\n",
       "      <td>Mark</td>\n",
       "      <td>Python</td>\n",
       "      <td>88.0</td>\n",
       "      <td>60.0</td>\n",
       "      <td>Pass</td>\n",
       "      <td>A</td>\n",
       "      <td>NaN</td>\n",
       "    </tr>\n",
       "    <tr>\n",
       "      <th>11</th>\n",
       "      <td>James</td>\n",
       "      <td>Java</td>\n",
       "      <td>75.0</td>\n",
       "      <td>50.0</td>\n",
       "      <td>NaN</td>\n",
       "      <td>NaN</td>\n",
       "      <td>NaN</td>\n",
       "    </tr>\n",
       "    <tr>\n",
       "      <th>12</th>\n",
       "      <td>James</td>\n",
       "      <td>Python</td>\n",
       "      <td>85.0</td>\n",
       "      <td>NaN</td>\n",
       "      <td>NaN</td>\n",
       "      <td>NaN</td>\n",
       "      <td>NaN</td>\n",
       "    </tr>\n",
       "  </tbody>\n",
       "</table>\n",
       "</div>"
      ],
      "text/plain": [
       "       name subject  marks  passmark result grade  time\n",
       "0      Bill    Java   90.0      50.0   Pass     A  60.0\n",
       "1      Bill  Python   95.0      60.0   Pass     A  55.0\n",
       "2     Steve    Java   80.0      50.0   Pass     A  50.0\n",
       "3     Steve       C   90.0      50.0   Pass     A  40.0\n",
       "4   Roberts    HTML   98.0      50.0   Pass     A  78.0\n",
       "5   Roberts    Java   60.0      50.0   Pass     C  40.0\n",
       "6   Roberts  Python   70.0      60.0   Pass     B  45.0\n",
       "7     Steve  Python    NaN      60.0   Fail     F   NaN\n",
       "8     Henry     NaN   60.0      50.0   Pass     C  55.0\n",
       "9      Mark    Java   90.0      50.0   Pass     A   NaN\n",
       "10     Mark  Python   88.0      60.0   Pass     A   NaN\n",
       "11    James    Java   75.0      50.0    NaN   NaN   NaN\n",
       "12    James  Python   85.0       NaN    NaN   NaN   NaN"
      ]
     },
     "execution_count": 39,
     "metadata": {},
     "output_type": "execute_result"
    }
   ],
   "source": [
    "df.join(time_df.set_index(['name','subject']),on=['name','subject'])"
   ]
  },
  {
   "cell_type": "markdown",
   "metadata": {},
   "source": [
    "### Tips DataFrame"
   ]
  },
  {
   "cell_type": "code",
   "execution_count": 51,
   "metadata": {},
   "outputs": [],
   "source": [
    "tips = sns.load_dataset('tips')"
   ]
  },
  {
   "cell_type": "code",
   "execution_count": 1,
   "metadata": {},
   "outputs": [
    {
     "ename": "NameError",
     "evalue": "name 'tips' is not defined",
     "output_type": "error",
     "traceback": [
      "\u001b[1;31m---------------------------------------------------------------------------\u001b[0m",
      "\u001b[1;31mNameError\u001b[0m                                 Traceback (most recent call last)",
      "\u001b[1;32m<ipython-input-1-b4b80f32f138>\u001b[0m in \u001b[0;36m<module>\u001b[1;34m\u001b[0m\n\u001b[1;32m----> 1\u001b[1;33m \u001b[0mtips\u001b[0m\u001b[1;33m[\u001b[0m\u001b[1;34m'tip_per'\u001b[0m\u001b[1;33m]\u001b[0m \u001b[1;33m=\u001b[0m \u001b[0mtips\u001b[0m\u001b[1;33m[\u001b[0m\u001b[1;34m'tip'\u001b[0m\u001b[1;33m]\u001b[0m \u001b[1;33m/\u001b[0m \u001b[0mtips\u001b[0m\u001b[1;33m[\u001b[0m\u001b[1;34m'total_bill'\u001b[0m\u001b[1;33m]\u001b[0m \u001b[1;33m*\u001b[0m \u001b[1;36m100\u001b[0m\u001b[1;33m\u001b[0m\u001b[1;33m\u001b[0m\u001b[0m\n\u001b[0m",
      "\u001b[1;31mNameError\u001b[0m: name 'tips' is not defined"
     ]
    }
   ],
   "source": [
    "tips['tip_per'] = tips['tip'] / tips['total_bill'] * 100"
   ]
  },
  {
   "cell_type": "markdown",
   "metadata": {},
   "source": [
    "# Display top 10 bill amounts"
   ]
  },
  {
   "cell_type": "code",
   "execution_count": 53,
   "metadata": {},
   "outputs": [
    {
     "data": {
      "text/html": [
       "<div>\n",
       "<style scoped>\n",
       "    .dataframe tbody tr th:only-of-type {\n",
       "        vertical-align: middle;\n",
       "    }\n",
       "\n",
       "    .dataframe tbody tr th {\n",
       "        vertical-align: top;\n",
       "    }\n",
       "\n",
       "    .dataframe thead th {\n",
       "        text-align: right;\n",
       "    }\n",
       "</style>\n",
       "<table border=\"1\" class=\"dataframe\">\n",
       "  <thead>\n",
       "    <tr style=\"text-align: right;\">\n",
       "      <th></th>\n",
       "      <th>total_bill</th>\n",
       "      <th>tip</th>\n",
       "      <th>sex</th>\n",
       "      <th>smoker</th>\n",
       "      <th>day</th>\n",
       "      <th>time</th>\n",
       "      <th>size</th>\n",
       "      <th>tip_per</th>\n",
       "    </tr>\n",
       "  </thead>\n",
       "  <tbody>\n",
       "    <tr>\n",
       "      <th>170</th>\n",
       "      <td>50.81</td>\n",
       "      <td>10.00</td>\n",
       "      <td>Male</td>\n",
       "      <td>Yes</td>\n",
       "      <td>Sat</td>\n",
       "      <td>Dinner</td>\n",
       "      <td>3</td>\n",
       "      <td>0.196812</td>\n",
       "    </tr>\n",
       "    <tr>\n",
       "      <th>212</th>\n",
       "      <td>48.33</td>\n",
       "      <td>9.00</td>\n",
       "      <td>Male</td>\n",
       "      <td>No</td>\n",
       "      <td>Sat</td>\n",
       "      <td>Dinner</td>\n",
       "      <td>4</td>\n",
       "      <td>0.186220</td>\n",
       "    </tr>\n",
       "    <tr>\n",
       "      <th>59</th>\n",
       "      <td>48.27</td>\n",
       "      <td>6.73</td>\n",
       "      <td>Male</td>\n",
       "      <td>No</td>\n",
       "      <td>Sat</td>\n",
       "      <td>Dinner</td>\n",
       "      <td>4</td>\n",
       "      <td>0.139424</td>\n",
       "    </tr>\n",
       "    <tr>\n",
       "      <th>156</th>\n",
       "      <td>48.17</td>\n",
       "      <td>5.00</td>\n",
       "      <td>Male</td>\n",
       "      <td>No</td>\n",
       "      <td>Sun</td>\n",
       "      <td>Dinner</td>\n",
       "      <td>6</td>\n",
       "      <td>0.103799</td>\n",
       "    </tr>\n",
       "    <tr>\n",
       "      <th>182</th>\n",
       "      <td>45.35</td>\n",
       "      <td>3.50</td>\n",
       "      <td>Male</td>\n",
       "      <td>Yes</td>\n",
       "      <td>Sun</td>\n",
       "      <td>Dinner</td>\n",
       "      <td>3</td>\n",
       "      <td>0.077178</td>\n",
       "    </tr>\n",
       "    <tr>\n",
       "      <th>102</th>\n",
       "      <td>44.30</td>\n",
       "      <td>2.50</td>\n",
       "      <td>Female</td>\n",
       "      <td>Yes</td>\n",
       "      <td>Sat</td>\n",
       "      <td>Dinner</td>\n",
       "      <td>3</td>\n",
       "      <td>0.056433</td>\n",
       "    </tr>\n",
       "    <tr>\n",
       "      <th>197</th>\n",
       "      <td>43.11</td>\n",
       "      <td>5.00</td>\n",
       "      <td>Female</td>\n",
       "      <td>Yes</td>\n",
       "      <td>Thur</td>\n",
       "      <td>Lunch</td>\n",
       "      <td>4</td>\n",
       "      <td>0.115982</td>\n",
       "    </tr>\n",
       "    <tr>\n",
       "      <th>142</th>\n",
       "      <td>41.19</td>\n",
       "      <td>5.00</td>\n",
       "      <td>Male</td>\n",
       "      <td>No</td>\n",
       "      <td>Thur</td>\n",
       "      <td>Lunch</td>\n",
       "      <td>5</td>\n",
       "      <td>0.121389</td>\n",
       "    </tr>\n",
       "    <tr>\n",
       "      <th>184</th>\n",
       "      <td>40.55</td>\n",
       "      <td>3.00</td>\n",
       "      <td>Male</td>\n",
       "      <td>Yes</td>\n",
       "      <td>Sun</td>\n",
       "      <td>Dinner</td>\n",
       "      <td>2</td>\n",
       "      <td>0.073983</td>\n",
       "    </tr>\n",
       "    <tr>\n",
       "      <th>95</th>\n",
       "      <td>40.17</td>\n",
       "      <td>4.73</td>\n",
       "      <td>Male</td>\n",
       "      <td>Yes</td>\n",
       "      <td>Fri</td>\n",
       "      <td>Dinner</td>\n",
       "      <td>4</td>\n",
       "      <td>0.117750</td>\n",
       "    </tr>\n",
       "  </tbody>\n",
       "</table>\n",
       "</div>"
      ],
      "text/plain": [
       "     total_bill    tip     sex smoker   day    time  size   tip_per\n",
       "170       50.81  10.00    Male    Yes   Sat  Dinner     3  0.196812\n",
       "212       48.33   9.00    Male     No   Sat  Dinner     4  0.186220\n",
       "59        48.27   6.73    Male     No   Sat  Dinner     4  0.139424\n",
       "156       48.17   5.00    Male     No   Sun  Dinner     6  0.103799\n",
       "182       45.35   3.50    Male    Yes   Sun  Dinner     3  0.077178\n",
       "102       44.30   2.50  Female    Yes   Sat  Dinner     3  0.056433\n",
       "197       43.11   5.00  Female    Yes  Thur   Lunch     4  0.115982\n",
       "142       41.19   5.00    Male     No  Thur   Lunch     5  0.121389\n",
       "184       40.55   3.00    Male    Yes   Sun  Dinner     2  0.073983\n",
       "95        40.17   4.73    Male    Yes   Fri  Dinner     4  0.117750"
      ]
     },
     "execution_count": 53,
     "metadata": {},
     "output_type": "execute_result"
    }
   ],
   "source": [
    "tips.nlargest(10,'total_bill')"
   ]
  },
  {
   "cell_type": "markdown",
   "metadata": {},
   "source": [
    "#### Display top 5 tip amounts for smokers"
   ]
  },
  {
   "cell_type": "code",
   "execution_count": 43,
   "metadata": {},
   "outputs": [
    {
     "data": {
      "text/html": [
       "<div>\n",
       "<style scoped>\n",
       "    .dataframe tbody tr th:only-of-type {\n",
       "        vertical-align: middle;\n",
       "    }\n",
       "\n",
       "    .dataframe tbody tr th {\n",
       "        vertical-align: top;\n",
       "    }\n",
       "\n",
       "    .dataframe thead th {\n",
       "        text-align: right;\n",
       "    }\n",
       "</style>\n",
       "<table border=\"1\" class=\"dataframe\">\n",
       "  <thead>\n",
       "    <tr style=\"text-align: right;\">\n",
       "      <th></th>\n",
       "      <th>total_bill</th>\n",
       "      <th>tip</th>\n",
       "      <th>sex</th>\n",
       "      <th>smoker</th>\n",
       "      <th>day</th>\n",
       "      <th>time</th>\n",
       "      <th>size</th>\n",
       "    </tr>\n",
       "  </thead>\n",
       "  <tbody>\n",
       "    <tr>\n",
       "      <th>170</th>\n",
       "      <td>50.81</td>\n",
       "      <td>10.00</td>\n",
       "      <td>Male</td>\n",
       "      <td>Yes</td>\n",
       "      <td>Sat</td>\n",
       "      <td>Dinner</td>\n",
       "      <td>3</td>\n",
       "    </tr>\n",
       "    <tr>\n",
       "      <th>183</th>\n",
       "      <td>23.17</td>\n",
       "      <td>6.50</td>\n",
       "      <td>Male</td>\n",
       "      <td>Yes</td>\n",
       "      <td>Sun</td>\n",
       "      <td>Dinner</td>\n",
       "      <td>4</td>\n",
       "    </tr>\n",
       "    <tr>\n",
       "      <th>214</th>\n",
       "      <td>28.17</td>\n",
       "      <td>6.50</td>\n",
       "      <td>Female</td>\n",
       "      <td>Yes</td>\n",
       "      <td>Sat</td>\n",
       "      <td>Dinner</td>\n",
       "      <td>3</td>\n",
       "    </tr>\n",
       "    <tr>\n",
       "      <th>181</th>\n",
       "      <td>23.33</td>\n",
       "      <td>5.65</td>\n",
       "      <td>Male</td>\n",
       "      <td>Yes</td>\n",
       "      <td>Sun</td>\n",
       "      <td>Dinner</td>\n",
       "      <td>2</td>\n",
       "    </tr>\n",
       "    <tr>\n",
       "      <th>211</th>\n",
       "      <td>25.89</td>\n",
       "      <td>5.16</td>\n",
       "      <td>Male</td>\n",
       "      <td>Yes</td>\n",
       "      <td>Sat</td>\n",
       "      <td>Dinner</td>\n",
       "      <td>4</td>\n",
       "    </tr>\n",
       "  </tbody>\n",
       "</table>\n",
       "</div>"
      ],
      "text/plain": [
       "     total_bill    tip     sex smoker  day    time  size\n",
       "170       50.81  10.00    Male    Yes  Sat  Dinner     3\n",
       "183       23.17   6.50    Male    Yes  Sun  Dinner     4\n",
       "214       28.17   6.50  Female    Yes  Sat  Dinner     3\n",
       "181       23.33   5.65    Male    Yes  Sun  Dinner     2\n",
       "211       25.89   5.16    Male    Yes  Sat  Dinner     4"
      ]
     },
     "execution_count": 43,
     "metadata": {},
     "output_type": "execute_result"
    }
   ],
   "source": [
    "tips[tips['smoker'] == 'Yes'].nlargest(5,'tip')"
   ]
  },
  {
   "cell_type": "markdown",
   "metadata": {},
   "source": [
    "#### Display average bill amount for female on Sunday"
   ]
  },
  {
   "cell_type": "code",
   "execution_count": 44,
   "metadata": {},
   "outputs": [
    {
     "data": {
      "text/plain": [
       "19.87222222222222"
      ]
     },
     "execution_count": 44,
     "metadata": {},
     "output_type": "execute_result"
    }
   ],
   "source": [
    "tips[(tips['sex'] == 'Female') & (tips['day'] == 'Sun')].mean()['total_bill']"
   ]
  },
  {
   "cell_type": "markdown",
   "metadata": {},
   "source": [
    "#### Display average bill amount per person for male and female"
   ]
  },
  {
   "cell_type": "code",
   "execution_count": 45,
   "metadata": {},
   "outputs": [
    {
     "data": {
      "text/plain": [
       "sex\n",
       "Male      20.744076\n",
       "Female    18.056897\n",
       "Name: total_bill, dtype: float64"
      ]
     },
     "execution_count": 45,
     "metadata": {},
     "output_type": "execute_result"
    }
   ],
   "source": [
    "tips.groupby('sex')['total_bill'].mean()"
   ]
  },
  {
   "cell_type": "markdown",
   "metadata": {},
   "source": [
    "#### Display the 10 transactions in which customers were the most generous"
   ]
  },
  {
   "cell_type": "code",
   "execution_count": 54,
   "metadata": {},
   "outputs": [
    {
     "data": {
      "text/html": [
       "<div>\n",
       "<style scoped>\n",
       "    .dataframe tbody tr th:only-of-type {\n",
       "        vertical-align: middle;\n",
       "    }\n",
       "\n",
       "    .dataframe tbody tr th {\n",
       "        vertical-align: top;\n",
       "    }\n",
       "\n",
       "    .dataframe thead th {\n",
       "        text-align: right;\n",
       "    }\n",
       "</style>\n",
       "<table border=\"1\" class=\"dataframe\">\n",
       "  <thead>\n",
       "    <tr style=\"text-align: right;\">\n",
       "      <th></th>\n",
       "      <th>total_bill</th>\n",
       "      <th>tip</th>\n",
       "      <th>sex</th>\n",
       "      <th>smoker</th>\n",
       "      <th>day</th>\n",
       "      <th>time</th>\n",
       "      <th>size</th>\n",
       "      <th>tip_per</th>\n",
       "    </tr>\n",
       "  </thead>\n",
       "  <tbody>\n",
       "    <tr>\n",
       "      <th>172</th>\n",
       "      <td>7.25</td>\n",
       "      <td>5.15</td>\n",
       "      <td>Male</td>\n",
       "      <td>Yes</td>\n",
       "      <td>Sun</td>\n",
       "      <td>Dinner</td>\n",
       "      <td>2</td>\n",
       "      <td>0.710345</td>\n",
       "    </tr>\n",
       "    <tr>\n",
       "      <th>178</th>\n",
       "      <td>9.60</td>\n",
       "      <td>4.00</td>\n",
       "      <td>Female</td>\n",
       "      <td>Yes</td>\n",
       "      <td>Sun</td>\n",
       "      <td>Dinner</td>\n",
       "      <td>2</td>\n",
       "      <td>0.416667</td>\n",
       "    </tr>\n",
       "    <tr>\n",
       "      <th>67</th>\n",
       "      <td>3.07</td>\n",
       "      <td>1.00</td>\n",
       "      <td>Female</td>\n",
       "      <td>Yes</td>\n",
       "      <td>Sat</td>\n",
       "      <td>Dinner</td>\n",
       "      <td>1</td>\n",
       "      <td>0.325733</td>\n",
       "    </tr>\n",
       "    <tr>\n",
       "      <th>232</th>\n",
       "      <td>11.61</td>\n",
       "      <td>3.39</td>\n",
       "      <td>Male</td>\n",
       "      <td>No</td>\n",
       "      <td>Sat</td>\n",
       "      <td>Dinner</td>\n",
       "      <td>2</td>\n",
       "      <td>0.291990</td>\n",
       "    </tr>\n",
       "    <tr>\n",
       "      <th>183</th>\n",
       "      <td>23.17</td>\n",
       "      <td>6.50</td>\n",
       "      <td>Male</td>\n",
       "      <td>Yes</td>\n",
       "      <td>Sun</td>\n",
       "      <td>Dinner</td>\n",
       "      <td>4</td>\n",
       "      <td>0.280535</td>\n",
       "    </tr>\n",
       "    <tr>\n",
       "      <th>109</th>\n",
       "      <td>14.31</td>\n",
       "      <td>4.00</td>\n",
       "      <td>Female</td>\n",
       "      <td>Yes</td>\n",
       "      <td>Sat</td>\n",
       "      <td>Dinner</td>\n",
       "      <td>2</td>\n",
       "      <td>0.279525</td>\n",
       "    </tr>\n",
       "    <tr>\n",
       "      <th>149</th>\n",
       "      <td>7.51</td>\n",
       "      <td>2.00</td>\n",
       "      <td>Male</td>\n",
       "      <td>No</td>\n",
       "      <td>Thur</td>\n",
       "      <td>Lunch</td>\n",
       "      <td>2</td>\n",
       "      <td>0.266312</td>\n",
       "    </tr>\n",
       "    <tr>\n",
       "      <th>93</th>\n",
       "      <td>16.32</td>\n",
       "      <td>4.30</td>\n",
       "      <td>Female</td>\n",
       "      <td>Yes</td>\n",
       "      <td>Fri</td>\n",
       "      <td>Dinner</td>\n",
       "      <td>2</td>\n",
       "      <td>0.263480</td>\n",
       "    </tr>\n",
       "    <tr>\n",
       "      <th>221</th>\n",
       "      <td>13.42</td>\n",
       "      <td>3.48</td>\n",
       "      <td>Female</td>\n",
       "      <td>Yes</td>\n",
       "      <td>Fri</td>\n",
       "      <td>Lunch</td>\n",
       "      <td>2</td>\n",
       "      <td>0.259314</td>\n",
       "    </tr>\n",
       "    <tr>\n",
       "      <th>51</th>\n",
       "      <td>10.29</td>\n",
       "      <td>2.60</td>\n",
       "      <td>Female</td>\n",
       "      <td>No</td>\n",
       "      <td>Sun</td>\n",
       "      <td>Dinner</td>\n",
       "      <td>2</td>\n",
       "      <td>0.252672</td>\n",
       "    </tr>\n",
       "  </tbody>\n",
       "</table>\n",
       "</div>"
      ],
      "text/plain": [
       "     total_bill   tip     sex smoker   day    time  size   tip_per\n",
       "172        7.25  5.15    Male    Yes   Sun  Dinner     2  0.710345\n",
       "178        9.60  4.00  Female    Yes   Sun  Dinner     2  0.416667\n",
       "67         3.07  1.00  Female    Yes   Sat  Dinner     1  0.325733\n",
       "232       11.61  3.39    Male     No   Sat  Dinner     2  0.291990\n",
       "183       23.17  6.50    Male    Yes   Sun  Dinner     4  0.280535\n",
       "109       14.31  4.00  Female    Yes   Sat  Dinner     2  0.279525\n",
       "149        7.51  2.00    Male     No  Thur   Lunch     2  0.266312\n",
       "93        16.32  4.30  Female    Yes   Fri  Dinner     2  0.263480\n",
       "221       13.42  3.48  Female    Yes   Fri   Lunch     2  0.259314\n",
       "51        10.29  2.60  Female     No   Sun  Dinner     2  0.252672"
      ]
     },
     "execution_count": 54,
     "metadata": {},
     "output_type": "execute_result"
    }
   ],
   "source": [
    "tips.nlargest(10,'tip_per')"
   ]
  },
  {
   "cell_type": "markdown",
   "metadata": {},
   "source": [
    "#### Find out on which day we had more customers"
   ]
  },
  {
   "cell_type": "code",
   "execution_count": 56,
   "metadata": {},
   "outputs": [],
   "source": [
    "day_group = tips.groupby('day').sum()['size']"
   ]
  },
  {
   "cell_type": "code",
   "execution_count": 57,
   "metadata": {},
   "outputs": [
    {
     "data": {
      "text/plain": [
       "day\n",
       "Thur    152\n",
       "Fri      40\n",
       "Sat     219\n",
       "Sun     216\n",
       "Name: size, dtype: int64"
      ]
     },
     "execution_count": 57,
     "metadata": {},
     "output_type": "execute_result"
    }
   ],
   "source": [
    "day_group"
   ]
  },
  {
   "cell_type": "code",
   "execution_count": 61,
   "metadata": {},
   "outputs": [
    {
     "data": {
      "text/plain": [
       "day\n",
       "Sat    219\n",
       "Name: size, dtype: int64"
      ]
     },
     "execution_count": 61,
     "metadata": {},
     "output_type": "execute_result"
    }
   ],
   "source": [
    "day_group[day_group == day_group.max()]"
   ]
  },
  {
   "cell_type": "markdown",
   "metadata": {},
   "source": [
    "#### Display top 3 transactions based on bill amount for each day"
   ]
  },
  {
   "cell_type": "code",
   "execution_count": 20,
   "metadata": {},
   "outputs": [
    {
     "name": "stdout",
     "output_type": "stream",
     "text": [
      "Thur\n",
      "     total_bill   tip     sex smoker   day   time  size\n",
      "197       43.11  5.00  Female    Yes  Thur  Lunch     4\n",
      "142       41.19  5.00    Male     No  Thur  Lunch     5\n",
      "85        34.83  5.17  Female     No  Thur  Lunch     4\n",
      "Fri\n",
      "    total_bill   tip   sex smoker  day    time  size\n",
      "95       40.17  4.73  Male    Yes  Fri  Dinner     4\n",
      "90       28.97  3.00  Male    Yes  Fri  Dinner     2\n",
      "96       27.28  4.00  Male    Yes  Fri  Dinner     2\n",
      "Sat\n",
      "     total_bill    tip   sex smoker  day    time  size\n",
      "170       50.81  10.00  Male    Yes  Sat  Dinner     3\n",
      "212       48.33   9.00  Male     No  Sat  Dinner     4\n",
      "59        48.27   6.73  Male     No  Sat  Dinner     4\n",
      "Sun\n",
      "     total_bill  tip   sex smoker  day    time  size\n",
      "156       48.17  5.0  Male     No  Sun  Dinner     6\n",
      "182       45.35  3.5  Male    Yes  Sun  Dinner     3\n",
      "184       40.55  3.0  Male    Yes  Sun  Dinner     2\n"
     ]
    }
   ],
   "source": [
    "day_group = tips.groupby('day')\n",
    "# First element is group and second one is row in that group\n",
    "for g,trans in day_group:\n",
    "    print(g)\n",
    "    print(trans.sort_values(by='total_bill', ascending=False).head(3))"
   ]
  },
  {
   "cell_type": "code",
   "execution_count": null,
   "metadata": {},
   "outputs": [],
   "source": []
  }
 ],
 "metadata": {
  "kernelspec": {
   "display_name": "Python 3",
   "language": "python",
   "name": "python3"
  },
  "language_info": {
   "codemirror_mode": {
    "name": "ipython",
    "version": 3
   },
   "file_extension": ".py",
   "mimetype": "text/x-python",
   "name": "python",
   "nbconvert_exporter": "python",
   "pygments_lexer": "ipython3",
   "version": "3.7.6"
  }
 },
 "nbformat": 4,
 "nbformat_minor": 4
}
