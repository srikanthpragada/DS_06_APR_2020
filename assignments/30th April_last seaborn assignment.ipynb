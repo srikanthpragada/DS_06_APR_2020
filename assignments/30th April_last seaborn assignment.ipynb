{
 "cells": [
  {
   "cell_type": "code",
   "execution_count": 1,
   "metadata": {},
   "outputs": [],
   "source": [
    "import seaborn as sns\n",
    "import pandas as pd\n",
    "import numpy as np\n",
    "import matplotlib.pyplot as plt"
   ]
  },
  {
   "cell_type": "code",
   "execution_count": 2,
   "metadata": {},
   "outputs": [],
   "source": [
    "sns.set(style=\"whitegrid\")"
   ]
  },
  {
   "cell_type": "code",
   "execution_count": 3,
   "metadata": {},
   "outputs": [],
   "source": [
    "tips = sns.load_dataset(\"tips\")"
   ]
  },
  {
   "cell_type": "markdown",
   "metadata": {},
   "source": [
    "### Session 22 - 30/04/2020"
   ]
  },
  {
   "cell_type": "markdown",
   "metadata": {},
   "source": [
    "#### Find the influence of day/sex/time on total_bill and tips."
   ]
  },
  {
   "cell_type": "markdown",
   "metadata": {},
   "source": [
    "##### Is this what you meant? Not sure how else to convert day/sex/time to numbers ... "
   ]
  },
  {
   "cell_type": "code",
   "execution_count": 4,
   "metadata": {},
   "outputs": [],
   "source": [
    "tips_day_hm = pd.concat([tips,pd.get_dummies(tips['day'], prefix='day')],axis=1).drop(['day'],axis=1)"
   ]
  },
  {
   "cell_type": "code",
   "execution_count": 5,
   "metadata": {},
   "outputs": [
    {
     "name": "stdout",
     "output_type": "stream",
     "text": [
      "<class 'pandas.core.frame.DataFrame'>\n",
      "RangeIndex: 244 entries, 0 to 243\n",
      "Data columns (total 10 columns):\n",
      "total_bill    244 non-null float64\n",
      "tip           244 non-null float64\n",
      "sex           244 non-null category\n",
      "smoker        244 non-null category\n",
      "time          244 non-null category\n",
      "size          244 non-null int64\n",
      "day_Thur      244 non-null uint8\n",
      "day_Fri       244 non-null uint8\n",
      "day_Sat       244 non-null uint8\n",
      "day_Sun       244 non-null uint8\n",
      "dtypes: category(3), float64(2), int64(1), uint8(4)\n",
      "memory usage: 7.7 KB\n"
     ]
    }
   ],
   "source": [
    "tips_day_hm.info()"
   ]
  },
  {
   "cell_type": "code",
   "execution_count": 6,
   "metadata": {},
   "outputs": [
    {
     "name": "stdout",
     "output_type": "stream",
     "text": [
      "            total_bill       tip      size  day_Thur   day_Fri   day_Sat  \\\n",
      "total_bill    1.000000  0.675734  0.598315 -0.138174 -0.086168  0.054919   \n",
      "tip           0.675734  1.000000  0.489299 -0.095879 -0.055463 -0.002790   \n",
      "size          0.598315  0.489299  1.000000 -0.072598 -0.142184 -0.041121   \n",
      "day_Thur     -0.138174 -0.095879 -0.072598  1.000000 -0.169608 -0.434480   \n",
      "day_Fri      -0.086168 -0.055463 -0.142184 -0.169608  1.000000 -0.216319   \n",
      "day_Sat       0.054919 -0.002790 -0.041121 -0.434480 -0.216319  1.000000   \n",
      "day_Sun       0.122953  0.125114  0.193054 -0.392566 -0.195451 -0.500682   \n",
      "\n",
      "             day_Sun  \n",
      "total_bill  0.122953  \n",
      "tip         0.125114  \n",
      "size        0.193054  \n",
      "day_Thur   -0.392566  \n",
      "day_Fri    -0.195451  \n",
      "day_Sat    -0.500682  \n",
      "day_Sun     1.000000  \n"
     ]
    },
    {
     "data": {
      "text/plain": [
       "<matplotlib.axes._subplots.AxesSubplot at 0x214b8f9cf28>"
      ]
     },
     "execution_count": 6,
     "metadata": {},
     "output_type": "execute_result"
    },
    {
     "data": {
      "image/png": "[encoded data removed]",
      "text/plain": [
       "<Figure size 432x288 with 2 Axes>"
      ]
     },
     "metadata": {},
     "output_type": "display_data"
    }
   ],
   "source": [
    "cm = tips_day_hm.corr()\n",
    "print(cm)\n",
    "sns.heatmap(cm)"
   ]
  },
  {
   "cell_type": "code",
   "execution_count": null,
   "metadata": {},
   "outputs": [],
   "source": []
  }
 ],
 "metadata": {
  "kernelspec": {
   "display_name": "Python 3",
   "language": "python",
   "name": "python3"
  },
  "language_info": {
   "codemirror_mode": {
    "name": "ipython",
    "version": 3
   },
   "file_extension": ".py",
   "mimetype": "text/x-python",
   "name": "python",
   "nbconvert_exporter": "python",
   "pygments_lexer": "ipython3",
   "version": "3.7.6"
  }
 },
 "nbformat": 4,
 "nbformat_minor": 4
}
