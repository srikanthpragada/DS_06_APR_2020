{
 "cells": [
  {
   "cell_type": "markdown",
   "metadata": {},
   "source": [
    "## House price prediction using Linear Regression"
   ]
  },
  {
   "cell_type": "code",
   "execution_count": 1,
   "metadata": {},
   "outputs": [],
   "source": [
    "import pandas as pd\n",
    "import scipy.stats as ss\n",
    "import statistics as s"
   ]
  },
  {
   "cell_type": "markdown",
   "metadata": {},
   "source": [
    "### Create sample data"
   ]
  },
  {
   "cell_type": "code",
   "execution_count": 2,
   "metadata": {},
   "outputs": [],
   "source": [
    "sizes = [1000,2000,1500,1100,1670,1550,3000,2400,3400,1200]  # SQFT\n",
    "ages =  [5,6,2,10,11,7,5,6,8,1]    # Years\n",
    "prices = [15.5,25.5,22,10.5,30,35,45,25,43,22]  # Lakhs "
   ]
  },
  {
   "cell_type": "markdown",
   "metadata": {},
   "source": [
    "### Find out correlation "
   ]
  },
  {
   "cell_type": "code",
   "execution_count": 8,
   "metadata": {},
   "outputs": [
    {
     "data": {
      "text/plain": [
       "(0.83618504618361, 0.0025725398031045785)"
      ]
     },
     "execution_count": 8,
     "metadata": {},
     "output_type": "execute_result"
    }
   ],
   "source": [
    "ss.pearsonr(sizes,prices)"
   ]
  },
  {
   "cell_type": "code",
   "execution_count": 9,
   "metadata": {},
   "outputs": [
    {
     "data": {
      "text/plain": [
       "(0.08633046178089812, 0.8125533057129931)"
      ]
     },
     "execution_count": 9,
     "metadata": {},
     "output_type": "execute_result"
    }
   ],
   "source": [
    "ss.pearsonr(ages,prices)"
   ]
  },
  {
   "cell_type": "markdown",
   "metadata": {},
   "source": [
    "### Calculate slope and intercept "
   ]
  },
  {
   "cell_type": "code",
   "execution_count": 3,
   "metadata": {},
   "outputs": [
    {
     "data": {
      "text/plain": [
       "LinregressResult(slope=0.011393721128941818, intercept=5.9070168353315005, rvalue=0.83618504618361, pvalue=0.002572539803104576, stderr=0.002642123965417807)"
      ]
     },
     "execution_count": 3,
     "metadata": {},
     "output_type": "execute_result"
    }
   ],
   "source": [
    "size_reg = ss.linregress(sizes, prices)\n",
    "size_reg"
   ]
  },
  {
   "cell_type": "code",
   "execution_count": 4,
   "metadata": {},
   "outputs": [
    {
     "data": {
      "text/plain": [
       "LinregressResult(slope=0.3053993250843644, intercept=25.48706411698538, rvalue=0.08633046178089812, pvalue=0.8125533057129929, stderr=1.246047411291669)"
      ]
     },
     "execution_count": 4,
     "metadata": {},
     "output_type": "execute_result"
    }
   ],
   "source": [
    "age_reg = ss.linregress(ages, prices)\n",
    "age_reg"
   ]
  },
  {
   "cell_type": "code",
   "execution_count": 5,
   "metadata": {},
   "outputs": [],
   "source": [
    "size_avg = s.mean(sizes)\n",
    "age_avg =  s.mean(ages)\n",
    "price_avg = s.mean(prices)"
   ]
  },
  {
   "cell_type": "code",
   "execution_count": 6,
   "metadata": {},
   "outputs": [],
   "source": [
    "intercept = price_avg - size_reg.slope * size_avg  - age_reg.slope * age_avg"
   ]
  },
  {
   "cell_type": "code",
   "execution_count": 7,
   "metadata": {},
   "outputs": [
    {
     "name": "stdout",
     "output_type": "stream",
     "text": [
      " 1000     5    16.96    15.50     1.46\n",
      " 2000     6    28.66    25.50     3.16\n",
      " 1500     2    21.75    22.00    -0.25\n",
      " 1100    10    19.63    10.50     9.13\n",
      " 1670    11    26.43    30.00    -3.57\n",
      " 1550     7    23.84    35.00   -11.16\n",
      " 3000     5    39.75    45.00    -5.25\n",
      " 2400     6    33.22    25.00     8.22\n",
      " 3400     8    45.23    43.00     2.23\n",
      " 1200     1    18.02    22.00    -3.98\n"
     ]
    }
   ],
   "source": [
    "# Calculate prices based on reg line for both size and age\n",
    "for (size,age, price) in zip(sizes,ages,prices):\n",
    "    p_price = intercept + size * size_reg.slope +  age * age_reg.slope\n",
    "    # find out the difference between predicted and acutal \n",
    "    diff = p_price - price\n",
    "    print(f\"{size:5} {age:5} {p_price:8.2f} {price:8.2f} {diff:8.2f}\")    "
   ]
  },
  {
   "cell_type": "code",
   "execution_count": null,
   "metadata": {},
   "outputs": [],
   "source": []
  }
 ],
 "metadata": {
  "kernelspec": {
   "display_name": "Python 3",
   "language": "python",
   "name": "python3"
  },
  "language_info": {
   "codemirror_mode": {
    "name": "ipython",
    "version": 3
   },
   "file_extension": ".py",
   "mimetype": "text/x-python",
   "name": "python",
   "nbconvert_exporter": "python",
   "pygments_lexer": "ipython3",
   "version": "3.7.6"
  }
 },
 "nbformat": 4,
 "nbformat_minor": 4
}
